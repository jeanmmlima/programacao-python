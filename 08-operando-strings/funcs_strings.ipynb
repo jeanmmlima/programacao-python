{
 "cells": [
  {
   "cell_type": "markdown",
   "id": "32dfe20f",
   "metadata": {},
   "source": [
    "# Operando Strings"
   ]
  },
  {
   "cell_type": "code",
   "execution_count": 1,
   "id": "5aa74351",
   "metadata": {},
   "outputs": [
    {
     "name": "stdout",
     "output_type": "stream",
     "text": [
      "A\n"
     ]
    },
    {
     "ename": "TypeError",
     "evalue": "'str' object does not support item assignment",
     "output_type": "error",
     "traceback": [
      "\u001b[0;31m---------------------------------------------------------------------------\u001b[0m",
      "\u001b[0;31mTypeError\u001b[0m                                 Traceback (most recent call last)",
      "Cell \u001b[0;32mIn[1], line 3\u001b[0m\n\u001b[1;32m      1\u001b[0m S\u001b[38;5;241m=\u001b[39m\u001b[38;5;124m\"\u001b[39m\u001b[38;5;124mAlô mundo\u001b[39m\u001b[38;5;124m\"\u001b[39m\n\u001b[1;32m      2\u001b[0m \u001b[38;5;28mprint\u001b[39m(S[\u001b[38;5;241m0\u001b[39m])\n\u001b[0;32m----> 3\u001b[0m \u001b[43mS\u001b[49m\u001b[43m[\u001b[49m\u001b[38;5;241;43m0\u001b[39;49m\u001b[43m]\u001b[49m\u001b[38;5;241m=\u001b[39m\u001b[38;5;124m\"\u001b[39m\u001b[38;5;124ma\u001b[39m\u001b[38;5;124m\"\u001b[39m\n",
      "\u001b[0;31mTypeError\u001b[0m: 'str' object does not support item assignment"
     ]
    }
   ],
   "source": [
    "S=\"Alô mundo\"\n",
    "print(S[0])\n",
    "S[0]=\"a\""
   ]
  },
  {
   "cell_type": "markdown",
   "id": "8f89a975",
   "metadata": {},
   "source": [
    "## String em Listas e virse-versa"
   ]
  },
  {
   "cell_type": "code",
   "execution_count": null,
   "id": "958a01e0",
   "metadata": {},
   "outputs": [
    {
     "name": "stdout",
     "output_type": "stream",
     "text": [
      "['a', 'l', 'ô', ' ', 'M', 'u', 'n', 'd', 'o']\n",
      "alô Mundo\n"
     ]
    }
   ],
   "source": [
    "# trocando o primeiro caractere de uma string\n",
    "L=list(\"Alô Mundo\")\n",
    "L[0]=\"a\"\n",
    "print(L)\n",
    "s=\"\".join(L)\n",
    "print(s)"
   ]
  },
  {
   "cell_type": "markdown",
   "id": "2786c6eb",
   "metadata": {},
   "source": [
    "## Funções utilitárias\n",
    "\n",
    "### lower e upper"
   ]
  },
  {
   "cell_type": "code",
   "execution_count": 3,
   "id": "b697b1f7",
   "metadata": {},
   "outputs": [
    {
     "name": "stdout",
     "output_type": "stream",
     "text": [
      "o rato roeu a roupa do rei de roma\n",
      "O RATO ROEU A ROUPA DO REI DE ROMA\n",
      "True\n",
      "True\n"
     ]
    }
   ],
   "source": [
    "s=\"O Rato roeu a roupa do Rei de Roma\"\n",
    "print(s.lower())\n",
    "print(s.upper())\n",
    "print(s.lower().startswith(\"o rato\"))\n",
    "print(s.upper().startswith(\"O RATO\"))"
   ]
  },
  {
   "cell_type": "markdown",
   "id": "3e4dfed5",
   "metadata": {},
   "source": [
    "### Contagem"
   ]
  },
  {
   "cell_type": "code",
   "execution_count": 5,
   "id": "27706c50",
   "metadata": {},
   "outputs": [
    {
     "name": "stdout",
     "output_type": "stream",
     "text": [
      "3\n",
      "2\n",
      "4\n",
      "0\n"
     ]
    }
   ],
   "source": [
    "t=\"um tigre, dois tigres, três tigres\"\n",
    "print(t.count(\"tigre\"))\n",
    "print(t.count(\"tigres\"))\n",
    "print(t.count(\"t\"))\n",
    "print(t.count(\"z\"))"
   ]
  },
  {
   "cell_type": "markdown",
   "id": "df3b948d",
   "metadata": {},
   "source": [
    "## Pesquisa de strings"
   ]
  },
  {
   "cell_type": "code",
   "execution_count": 6,
   "id": "51f9f1b6",
   "metadata": {},
   "outputs": [
    {
     "name": "stdout",
     "output_type": "stream",
     "text": [
      "4\n",
      "-1\n"
     ]
    }
   ],
   "source": [
    "s=\"Alô mundo\"\n",
    "print(s.find(\"mun\"))\n",
    "print(s.find(\"ok\"))"
   ]
  }
 ],
 "metadata": {
  "kernelspec": {
   "display_name": "Python 3",
   "language": "python",
   "name": "python3"
  },
  "language_info": {
   "codemirror_mode": {
    "name": "ipython",
    "version": 3
   },
   "file_extension": ".py",
   "mimetype": "text/x-python",
   "name": "python",
   "nbconvert_exporter": "python",
   "pygments_lexer": "ipython3",
   "version": "3.9.6"
  }
 },
 "nbformat": 4,
 "nbformat_minor": 5
}
