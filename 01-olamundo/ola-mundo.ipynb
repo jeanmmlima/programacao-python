{
 "cells": [
  {
   "cell_type": "markdown",
   "id": "889f3d78",
   "metadata": {},
   "source": [
    "## Olá mundo"
   ]
  },
  {
   "cell_type": "code",
   "execution_count": 44,
   "id": "182cf33c",
   "metadata": {},
   "outputs": [
    {
     "name": "stdout",
     "output_type": "stream",
     "text": [
      "oi\n"
     ]
    }
   ],
   "source": [
    "print('oi')"
   ]
  },
  {
   "cell_type": "markdown",
   "id": "b3fa7b5f",
   "metadata": {},
   "source": [
    "## O interpretador Python também pode ser utilizado como calculadora."
   ]
  },
  {
   "cell_type": "markdown",
   "id": "b5478bfa",
   "metadata": {},
   "source": [
    "### Soma e subtração"
   ]
  },
  {
   "cell_type": "code",
   "execution_count": 45,
   "id": "ff121d48",
   "metadata": {},
   "outputs": [
    {
     "data": {
      "text/plain": [
       "5"
      ]
     },
     "execution_count": 45,
     "metadata": {},
     "output_type": "execute_result"
    }
   ],
   "source": [
    "2+3 "
   ]
  },
  {
   "cell_type": "code",
   "execution_count": 46,
   "id": "b5ca4188",
   "metadata": {},
   "outputs": [
    {
     "data": {
      "text/plain": [
       "2"
      ]
     },
     "execution_count": 46,
     "metadata": {},
     "output_type": "execute_result"
    }
   ],
   "source": [
    "5-3"
   ]
  },
  {
   "cell_type": "code",
   "execution_count": 47,
   "id": "28ebb9a5",
   "metadata": {},
   "outputs": [
    {
     "data": {
      "text/plain": [
       "8"
      ]
     },
     "execution_count": 47,
     "metadata": {},
     "output_type": "execute_result"
    }
   ],
   "source": [
    "10-4+2"
   ]
  },
  {
   "cell_type": "markdown",
   "id": "923059f1",
   "metadata": {},
   "source": [
    "### Multiplicação e divisão"
   ]
  },
  {
   "cell_type": "code",
   "execution_count": 48,
   "id": "6d13f97e",
   "metadata": {},
   "outputs": [
    {
     "data": {
      "text/plain": [
       "20"
      ]
     },
     "execution_count": 48,
     "metadata": {},
     "output_type": "execute_result"
    }
   ],
   "source": [
    "2*10"
   ]
  },
  {
   "cell_type": "code",
   "execution_count": 49,
   "id": "fe381e1a",
   "metadata": {},
   "outputs": [
    {
     "data": {
      "text/plain": [
       "5.0"
      ]
     },
     "execution_count": 49,
     "metadata": {},
     "output_type": "execute_result"
    }
   ],
   "source": [
    "20/4"
   ]
  },
  {
   "cell_type": "markdown",
   "id": "2db2c3cd",
   "metadata": {},
   "source": [
    "### Potenciação ou exponeciação"
   ]
  },
  {
   "cell_type": "code",
   "execution_count": 50,
   "id": "3e273525",
   "metadata": {},
   "outputs": [
    {
     "data": {
      "text/plain": [
       "8"
      ]
     },
     "execution_count": 50,
     "metadata": {},
     "output_type": "execute_result"
    }
   ],
   "source": [
    "2**3"
   ]
  },
  {
   "cell_type": "markdown",
   "id": "b6f331e8",
   "metadata": {},
   "source": [
    "### Resto da divisão"
   ]
  },
  {
   "cell_type": "code",
   "execution_count": 51,
   "id": "5043b16c",
   "metadata": {},
   "outputs": [
    {
     "data": {
      "text/plain": [
       "1"
      ]
     },
     "execution_count": 51,
     "metadata": {},
     "output_type": "execute_result"
    }
   ],
   "source": [
    "10 % 3"
   ]
  },
  {
   "cell_type": "markdown",
   "id": "25c368fc",
   "metadata": {},
   "source": [
    "## Precedencia de operadores\n",
    "\n",
    "Os parênteses são utilizados em Python da mesma forma que em expressões matemáticas, ou seja, para alterar a ordem de execução de uma operação. Para relembrar a ordem de precedência das operações, temos as seguintes prioridades:\n",
    "1. Exponenciação ou potenciação (**).\n",
    "2. Multiplicação (*) e divisão (/ e %).\n",
    "3. Adição (+) e subtração (-).\n",
    "A expressão 1500 + (1500 * 5 ∕ 100) é equivalente a:\n"
   ]
  },
  {
   "cell_type": "code",
   "execution_count": 52,
   "id": "181c1c36",
   "metadata": {},
   "outputs": [
    {
     "data": {
      "text/plain": [
       "1575.0"
      ]
     },
     "execution_count": 52,
     "metadata": {},
     "output_type": "execute_result"
    }
   ],
   "source": [
    "1500 + ((1500 * 5)/100)"
   ]
  },
  {
   "cell_type": "markdown",
   "id": "41cd658c",
   "metadata": {},
   "source": [
    "## Primeiro programa com variáveis"
   ]
  },
  {
   "cell_type": "code",
   "execution_count": 53,
   "id": "c214bd27",
   "metadata": {},
   "outputs": [
    {
     "name": "stdout",
     "output_type": "stream",
     "text": [
      "5\n"
     ]
    }
   ],
   "source": [
    "a = 2 \n",
    "b = 3 \n",
    "print (a + b) "
   ]
  },
  {
   "cell_type": "markdown",
   "id": "fe14bf37",
   "metadata": {},
   "source": [
    "### Exemplo salário"
   ]
  },
  {
   "cell_type": "code",
   "execution_count": 54,
   "id": "c67aa1e4",
   "metadata": {},
   "outputs": [
    {
     "name": "stdout",
     "output_type": "stream",
     "text": [
      "O novo salario é: R$ 1575.0\n"
     ]
    }
   ],
   "source": [
    "salario = 1500\n",
    "aumento_percentual = 5\n",
    "novo_salario = salario + (salario * aumento_percentual/100)\n",
    "print('O novo salario é: R$',novo_salario)"
   ]
  },
  {
   "cell_type": "markdown",
   "id": "1ce10206",
   "metadata": {},
   "source": [
    "## Entrada de Dados"
   ]
  },
  {
   "cell_type": "code",
   "execution_count": 55,
   "id": "130c8840",
   "metadata": {},
   "outputs": [
    {
     "name": "stdout",
     "output_type": "stream",
     "text": [
      "10\n"
     ]
    }
   ],
   "source": [
    "x = input(\"Digite um número: \")\n",
    "\n",
    "print(x)"
   ]
  },
  {
   "cell_type": "code",
   "execution_count": 56,
   "id": "9ca59f02",
   "metadata": {},
   "outputs": [
    {
     "name": "stdout",
     "output_type": "stream",
     "text": [
      "10\n",
      "10\n"
     ]
    }
   ],
   "source": [
    "x = input(\"Digite um número: \")\n",
    "y = input(\"Digite um outro número: \")\n",
    "\n",
    "print(x)\n",
    "print(y)"
   ]
  },
  {
   "cell_type": "code",
   "execution_count": 57,
   "id": "b19de300",
   "metadata": {},
   "outputs": [
    {
     "name": "stdout",
     "output_type": "stream",
     "text": [
      "Olá,  19\n"
     ]
    }
   ],
   "source": [
    "nome = input(\"Digite seu nome: \")\n",
    "print('Olá, ', nome)"
   ]
  },
  {
   "cell_type": "markdown",
   "id": "c08b33b0",
   "metadata": {},
   "source": [
    "### Convertendo entrada"
   ]
  },
  {
   "cell_type": "code",
   "execution_count": 58,
   "id": "37e2e83e",
   "metadata": {},
   "outputs": [
    {
     "name": "stdout",
     "output_type": "stream",
     "text": [
      "Bônus de R$ 190.00\n"
     ]
    }
   ],
   "source": [
    "anos = int(input(\"Anos de serviço: \"))\n",
    "valor_por_ano = float(input(\"Valor por ano: \"))\n",
    "bonus = anos * valor_por_ano\n",
    "print(\"Bônus de R$ %.2f\" % bonus)"
   ]
  }
 ],
 "metadata": {
  "kernelspec": {
   "display_name": "Python 3",
   "language": "python",
   "name": "python3"
  },
  "language_info": {
   "codemirror_mode": {
    "name": "ipython",
    "version": 3
   },
   "file_extension": ".py",
   "mimetype": "text/x-python",
   "name": "python",
   "nbconvert_exporter": "python",
   "pygments_lexer": "ipython3",
   "version": "3.13.5"
  }
 },
 "nbformat": 4,
 "nbformat_minor": 5
}
