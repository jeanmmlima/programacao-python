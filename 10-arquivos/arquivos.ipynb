{
 "cells": [
  {
   "cell_type": "markdown",
   "id": "0b95a686",
   "metadata": {},
   "source": [
    "# Arquivos"
   ]
  },
  {
   "cell_type": "code",
   "execution_count": 1,
   "id": "6bfb2e2a",
   "metadata": {},
   "outputs": [],
   "source": [
    "arquivo=open(\"números.txt\",\"w\") \n",
    "for linha in range(1,101): \n",
    "    arquivo.write(\"%d\\n\" % linha) \n",
    "arquivo.close() "
   ]
  },
  {
   "cell_type": "markdown",
   "id": "984ce176",
   "metadata": {},
   "source": [
    "## lendo arquivo"
   ]
  },
  {
   "cell_type": "code",
   "execution_count": null,
   "id": "7de7f7cf",
   "metadata": {},
   "outputs": [
    {
     "name": "stdout",
     "output_type": "stream",
     "text": [
      "1\n",
      "\n",
      "2\n",
      "\n",
      "3\n",
      "\n",
      "4\n",
      "\n",
      "5\n",
      "\n",
      "6\n",
      "\n",
      "7\n",
      "\n",
      "8\n",
      "\n",
      "9\n",
      "\n",
      "10\n",
      "\n",
      "11\n",
      "\n",
      "12\n",
      "\n",
      "13\n",
      "\n",
      "14\n",
      "\n",
      "15\n",
      "\n",
      "16\n",
      "\n",
      "17\n",
      "\n",
      "18\n",
      "\n",
      "19\n",
      "\n",
      "20\n",
      "\n",
      "21\n",
      "\n",
      "22\n",
      "\n",
      "23\n",
      "\n",
      "24\n",
      "\n",
      "25\n",
      "\n",
      "26\n",
      "\n",
      "27\n",
      "\n",
      "28\n",
      "\n",
      "29\n",
      "\n",
      "30\n",
      "\n",
      "31\n",
      "\n",
      "32\n",
      "\n",
      "33\n",
      "\n",
      "34\n",
      "\n",
      "35\n",
      "\n",
      "36\n",
      "\n",
      "37\n",
      "\n",
      "38\n",
      "\n",
      "39\n",
      "\n",
      "40\n",
      "\n",
      "41\n",
      "\n",
      "42\n",
      "\n",
      "43\n",
      "\n",
      "44\n",
      "\n",
      "45\n",
      "\n",
      "46\n",
      "\n",
      "47\n",
      "\n",
      "48\n",
      "\n",
      "49\n",
      "\n",
      "50\n",
      "\n",
      "51\n",
      "\n",
      "52\n",
      "\n",
      "53\n",
      "\n",
      "54\n",
      "\n",
      "55\n",
      "\n",
      "56\n",
      "\n",
      "57\n",
      "\n",
      "58\n",
      "\n",
      "59\n",
      "\n",
      "60\n",
      "\n",
      "61\n",
      "\n",
      "62\n",
      "\n",
      "63\n",
      "\n",
      "64\n",
      "\n",
      "65\n",
      "\n",
      "66\n",
      "\n",
      "67\n",
      "\n",
      "68\n",
      "\n",
      "69\n",
      "\n",
      "70\n",
      "\n",
      "71\n",
      "\n",
      "72\n",
      "\n",
      "73\n",
      "\n",
      "74\n",
      "\n",
      "75\n",
      "\n",
      "76\n",
      "\n",
      "77\n",
      "\n",
      "78\n",
      "\n",
      "79\n",
      "\n",
      "80\n",
      "\n",
      "81\n",
      "\n",
      "82\n",
      "\n",
      "83\n",
      "\n",
      "84\n",
      "\n",
      "85\n",
      "\n",
      "86\n",
      "\n",
      "87\n",
      "\n",
      "88\n",
      "\n",
      "89\n",
      "\n",
      "90\n",
      "\n",
      "91\n",
      "\n",
      "92\n",
      "\n",
      "93\n",
      "\n",
      "94\n",
      "\n",
      "95\n",
      "\n",
      "96\n",
      "\n",
      "97\n",
      "\n",
      "98\n",
      "\n",
      "99\n",
      "\n",
      "100\n",
      "\n"
     ]
    }
   ],
   "source": [
    "arquivo=open(\"números.txt\",\"r\") #1\n",
    "for linha in arquivo.readlines(): \n",
    "    print(linha) \n",
    "arquivo.close() "
   ]
  },
  {
   "cell_type": "markdown",
   "id": "5454a516",
   "metadata": {},
   "source": [
    "## Escrevendo com WITH"
   ]
  },
  {
   "cell_type": "code",
   "execution_count": 3,
   "id": "c2c14f1c",
   "metadata": {},
   "outputs": [],
   "source": [
    "with open(\"números.txt\", \"w\") as arquivo:\n",
    "    for linha in range(1, 101):\n",
    "        arquivo.write(f\"{linha}\\n\")"
   ]
  },
  {
   "cell_type": "code",
   "execution_count": 4,
   "id": "7b0ec8b6",
   "metadata": {},
   "outputs": [],
   "source": [
    "impares=open(\"impares.txt\",\"w\")\n",
    "pares=open(\"pares.txt\",\"w\")\n",
    "for n in range(0,1000):\n",
    "    if n % 2 == 0:\n",
    "        pares.write(\"%d\\n\" % n)\n",
    "    else:\n",
    "        impares.write(\"%d\\n\" % n)\n",
    "impares.close()\n",
    "pares.close()"
   ]
  },
  {
   "cell_type": "code",
   "execution_count": 5,
   "id": "2e3541cd",
   "metadata": {},
   "outputs": [],
   "source": [
    "múltiplos4=open(\"múltiplos de 4.txt\",\"w\")\n",
    "pares=open(\"pares.txt\")\n",
    "for l in pares.readlines():\n",
    "    if int(l) % 4 == 0: \n",
    "        múltiplos4.write(l)\n",
    "pares.close()\n",
    "múltiplos4.close()"
   ]
  },
  {
   "cell_type": "markdown",
   "id": "02d5360b",
   "metadata": {},
   "source": [
    "## Processando elementos de cada linha"
   ]
  },
  {
   "cell_type": "code",
   "execution_count": null,
   "id": "592e4580",
   "metadata": {},
   "outputs": [
    {
     "name": "stdout",
     "output_type": "stream",
     "text": [
      "Linha: Python é top\n",
      " -> P\n",
      " -> y\n",
      " -> t\n",
      " -> h\n",
      " -> o\n",
      " -> n\n",
      " ->  \n",
      " -> é\n",
      " ->  \n",
      " -> t\n",
      " -> o\n",
      " -> p\n",
      "Linha: Aprender é bom\n",
      " -> A\n",
      " -> p\n",
      " -> r\n",
      " -> e\n",
      " -> n\n",
      " -> d\n",
      " -> e\n",
      " -> r\n",
      " ->  \n",
      " -> é\n",
      " ->  \n",
      " -> b\n",
      " -> o\n",
      " -> m\n"
     ]
    }
   ],
   "source": [
    "with open(\"texto.txt\", \"r\", encoding=\"utf-8\") as arquivo:\n",
    "    for linha in arquivo:\n",
    "        linha = linha.strip()\n",
    "        print(f\"Linha: {linha}\")\n",
    "        for caractere in linha:   # percorre letra por letra\n",
    "            print(f\" -> {caractere}\")"
   ]
  },
  {
   "cell_type": "code",
   "execution_count": 11,
   "id": "4f184600",
   "metadata": {},
   "outputs": [
    {
     "name": "stdout",
     "output_type": "stream",
     "text": [
      "Nome: João, Idade: 25, Estado: SP\n",
      "Nome: Maria, Idade: 30, Estado: RJ\n",
      "Nome: Carlos, Idade: 22, Estado: MG\n"
     ]
    }
   ],
   "source": [
    "with open(\"dados.txt\", \"r\", encoding=\"utf-8\") as arquivo:\n",
    "    for linha in arquivo:\n",
    "        linha = linha.strip()         # \"João 25 SP\"\n",
    "        partes = linha.split()        # [\"João\", \"25\", \"SP\"]\n",
    "        \n",
    "        nome = partes[0]\n",
    "        idade = int(partes[1])\n",
    "        estado = partes[2]\n",
    "        \n",
    "        print(f\"Nome: {nome}, Idade: {idade}, Estado: {estado}\")"
   ]
  },
  {
   "cell_type": "code",
   "execution_count": 13,
   "id": "76a839a5",
   "metadata": {},
   "outputs": [
    {
     "name": "stdout",
     "output_type": "stream",
     "text": [
      "Ana -> média: 8.00\n",
      "Bruno -> média: 6.00\n",
      "Carla -> média: 9.00\n"
     ]
    }
   ],
   "source": [
    "with open(\"notas.txt\", \"r\", encoding=\"utf-8\") as arquivo:\n",
    "    for linha in arquivo:\n",
    "        partes = linha.strip().split()\n",
    "        nome = partes[0]\n",
    "        notas = [int(n) for n in partes[1:]]  # converte em lista de inteiros\n",
    "        media = sum(notas) / len(notas)\n",
    "        print(f\"{nome} -> média: {media:.2f}\")"
   ]
  },
  {
   "cell_type": "markdown",
   "id": "1232c4da",
   "metadata": {},
   "source": [
    "## CSVs"
   ]
  },
  {
   "cell_type": "code",
   "execution_count": 2,
   "id": "5b686604",
   "metadata": {},
   "outputs": [
    {
     "name": "stdout",
     "output_type": "stream",
     "text": [
      "['nome', 'idade', 'cidade']\n",
      "nome\n",
      "idade\n",
      "cidade\n",
      "['Ana', '25', 'São Paulo']\n",
      "Ana\n",
      "25\n",
      "São Paulo\n",
      "['Bruno', '30', 'Rio de Janeiro']\n",
      "Bruno\n",
      "30\n",
      "Rio de Janeiro\n",
      "['Carla', '22', 'Belo Horizonte']\n",
      "Carla\n",
      "22\n",
      "Belo Horizonte\n"
     ]
    }
   ],
   "source": [
    "import csv\n",
    "\n",
    "with open(\"dados.csv\", \"r\", encoding=\"utf-8\") as arquivo:\n",
    "    leitor = csv.reader(arquivo)\n",
    "    for linha in leitor:\n",
    "        print(linha)\n",
    "        for e in linha:\n",
    "            print(e)"
   ]
  },
  {
   "cell_type": "markdown",
   "id": "870781f5",
   "metadata": {},
   "source": [
    "## JSON"
   ]
  },
  {
   "cell_type": "code",
   "execution_count": null,
   "id": "f912fa32",
   "metadata": {},
   "outputs": [
    {
     "name": "stdout",
     "output_type": "stream",
     "text": [
      "[{'nome': 'Ana', 'idade': 25, 'cidade': 'São Paulo'}, {'nome': 'Bruno', 'idade': 30, 'cidade': 'Rio de Janeiro'}, {'nome': 'Carla', 'idade': 22, 'cidade': 'Belo Horizonte'}]\n",
      "{'nome': 'Ana', 'idade': 25, 'cidade': 'São Paulo'}\n",
      "Ana\n"
     ]
    }
   ],
   "source": [
    "import json\n",
    "with open(\"dados.json\", \"r\", encoding=\"utf-8\") as arquivo:\n",
    "    dados = json.load(arquivo)\n",
    "\n",
    "print(dados)\n",
    "print(dados[0])\n",
    "print(dados[0][\"nome\"])"
   ]
  },
  {
   "cell_type": "markdown",
   "id": "b8b9973c",
   "metadata": {},
   "source": [
    "# PANDAS"
   ]
  },
  {
   "cell_type": "code",
   "execution_count": 4,
   "id": "497755ff",
   "metadata": {},
   "outputs": [
    {
     "name": "stdout",
     "output_type": "stream",
     "text": [
      "    nome  idade          cidade\n",
      "0    Ana     25       São Paulo\n",
      "1  Bruno     30  Rio de Janeiro\n",
      "2  Carla     22  Belo Horizonte\n"
     ]
    }
   ],
   "source": [
    "import pandas as pd\n",
    "\n",
    "df = pd.read_csv(\"dados.csv\")\n",
    "print(df)"
   ]
  },
  {
   "cell_type": "code",
   "execution_count": null,
   "id": "377baee3",
   "metadata": {},
   "outputs": [
    {
     "name": "stdout",
     "output_type": "stream",
     "text": [
      "✓ Arquivo 'estudantes.csv' criado com sucesso!\n"
     ]
    }
   ],
   "source": [
    "import pandas as pd\n",
    "\n",
    "dados_estudantes = {\n",
    "    'Nome': ['Ana Silva', 'Bruno Costa', 'Carlos Santos', 'Diana Lima', 'Eduardo Ferreira', \n",
    "             'Fernanda Souza', 'Gabriel Oliveira', 'Helena Martins', 'Igor Pereira', 'Julia Alves'],\n",
    "    'Idade': [20, 22, 19, 21, 23, 20, 24, 19, 22, 21],\n",
    "    'Curso': ['Matemática', 'História', 'Matemática', 'Biologia', 'História', \n",
    "              'Biologia', 'Matemática', 'História', 'Biologia', 'Matemática'],\n",
    "    'Nota_1': [8.5, 7.2, 9.1, 6.8, 7.9, 8.3, 9.5, 6.5, 7.7, 8.8],\n",
    "    'Nota_2': [9.0, 6.8, 8.7, 7.5, 8.2, 7.9, 9.2, 7.1, 8.0, 9.3],\n",
    "    'Nota_3': [8.2, 7.5, 9.3, 7.0, 7.6, 8.1, 9.0, 6.8, 7.4, 8.5],\n",
    "    'Faltas': [2, 5, 1, 8, 4, 3, 0, 12, 6, 2]\n",
    "}\n",
    "\n",
    "df = pd.DataFrame(dados_estudantes)\n",
    "\n",
    "df.to_csv('estudantes.csv', index=False)\n",
    "print(\"✓ Arquivo 'estudantes.csv' criado com sucesso!\")"
   ]
  },
  {
   "cell_type": "markdown",
   "id": "56fecacd",
   "metadata": {},
   "source": [
    "## Dataframe"
   ]
  },
  {
   "cell_type": "code",
   "execution_count": 2,
   "id": "3ba684db",
   "metadata": {},
   "outputs": [
    {
     "name": "stdout",
     "output_type": "stream",
     "text": [
      "\n",
      "Nosso DataFrame tem:\n",
      "- 10 linhas (estudantes)\n",
      "- 7 colunas (informações)\n",
      "               Nome  Idade       Curso  Nota_1  Nota_2  Nota_3  Faltas\n",
      "0         Ana Silva     20  Matemática     8.5     9.0     8.2       2\n",
      "1       Bruno Costa     22    História     7.2     6.8     7.5       5\n",
      "2     Carlos Santos     19  Matemática     9.1     8.7     9.3       1\n",
      "3        Diana Lima     21    Biologia     6.8     7.5     7.0       8\n",
      "4  Eduardo Ferreira     23    História     7.9     8.2     7.6       4\n",
      "5    Fernanda Souza     20    Biologia     8.3     7.9     8.1       3\n",
      "6  Gabriel Oliveira     24  Matemática     9.5     9.2     9.0       0\n",
      "7    Helena Martins     19    História     6.5     7.1     6.8      12\n",
      "8      Igor Pereira     22    Biologia     7.7     8.0     7.4       6\n",
      "9       Julia Alves     21  Matemática     8.8     9.3     8.5       2\n"
     ]
    }
   ],
   "source": [
    "import pandas as pd\n",
    "# Carregando nosso CSV\n",
    "df = pd.read_csv('estudantes.csv')\n",
    "\n",
    "print(f\"\\nNosso DataFrame tem:\")\n",
    "print(f\"- {df.shape[0]} linhas (estudantes)\")\n",
    "print(f\"- {df.shape[1]} colunas (informações)\")\n",
    "\n",
    "print(df)\n"
   ]
  },
  {
   "cell_type": "code",
   "execution_count": 12,
   "id": "429bcaed",
   "metadata": {},
   "outputs": [
    {
     "name": "stdout",
     "output_type": "stream",
     "text": [
      "=== EXPLORANDO NOSSOS DADOS ===\n",
      "\n",
      "1. INFORMAÇÕES GERAIS:\n",
      "<class 'pandas.core.frame.DataFrame'>\n",
      "RangeIndex: 10 entries, 0 to 9\n",
      "Data columns (total 7 columns):\n",
      " #   Column  Non-Null Count  Dtype  \n",
      "---  ------  --------------  -----  \n",
      " 0   Nome    10 non-null     object \n",
      " 1   Idade   10 non-null     int64  \n",
      " 2   Curso   10 non-null     object \n",
      " 3   Nota_1  10 non-null     float64\n",
      " 4   Nota_2  10 non-null     float64\n",
      " 5   Nota_3  10 non-null     float64\n",
      " 6   Faltas  10 non-null     int64  \n",
      "dtypes: float64(3), int64(2), object(2)\n",
      "memory usage: 692.0+ bytes\n",
      "None\n",
      "\n",
      "2. PRIMEIRAS LINHAS (head):\n",
      "               Nome  Idade       Curso  Nota_1  Nota_2  Nota_3  Faltas\n",
      "0         Ana Silva     20  Matemática     8.5     9.0     8.2       2\n",
      "1       Bruno Costa     22    História     7.2     6.8     7.5       5\n",
      "2     Carlos Santos     19  Matemática     9.1     8.7     9.3       1\n",
      "3        Diana Lima     21    Biologia     6.8     7.5     7.0       8\n",
      "4  Eduardo Ferreira     23    História     7.9     8.2     7.6       4\n",
      "\n",
      "3. ÚLTIMAS LINHAS (tail):\n",
      "             Nome  Idade       Curso  Nota_1  Nota_2  Nota_3  Faltas\n",
      "7  Helena Martins     19    História     6.5     7.1     6.8      12\n",
      "8    Igor Pereira     22    Biologia     7.7     8.0     7.4       6\n",
      "9     Julia Alves     21  Matemática     8.8     9.3     8.5       2\n",
      "\n",
      "4. FORMATO DOS DADOS (shape):\n",
      "Dimensões: (10, 7)\n",
      "\n",
      "5. NOMES DAS COLUNAS:\n",
      "['Nome', 'Idade', 'Curso', 'Nota_1', 'Nota_2', 'Nota_3', 'Faltas']\n",
      "\n",
      "6. TIPOS DE DADOS:\n",
      "Nome       object\n",
      "Idade       int64\n",
      "Curso      object\n",
      "Nota_1    float64\n",
      "Nota_2    float64\n",
      "Nota_3    float64\n",
      "Faltas      int64\n",
      "dtype: object\n"
     ]
    }
   ],
   "source": [
    "df = pd.read_csv('estudantes.csv')\n",
    "print(\"=== EXPLORANDO NOSSOS DADOS ===\")\n",
    "\n",
    "# Informações básicas sobre o DataFrame\n",
    "print(\"\\n1. INFORMAÇÕES GERAIS:\")\n",
    "print(df.info())\n",
    "\n",
    "print(\"\\n2. PRIMEIRAS LINHAS (head):\")\n",
    "print(df.head())\n",
    "\n",
    "print(\"\\n3. ÚLTIMAS LINHAS (tail):\")\n",
    "print(df.tail(3))  # Podemos especificar quantas linha\n",
    "\n",
    "print(\"\\n4. FORMATO DOS DADOS (shape):\")\n",
    "print(f\"Dimensões: {df.shape}\")  # (linhas, colunas)\n",
    "\n",
    "print(\"\\n5. NOMES DAS COLUNAS:\")\n",
    "print(list(df.columns))\n",
    "\n",
    "print(\"\\n6. TIPOS DE DADOS:\")\n",
    "print(df.dtypes)"
   ]
  },
  {
   "cell_type": "markdown",
   "id": "d27b4606",
   "metadata": {},
   "source": [
    "## Series"
   ]
  },
  {
   "cell_type": "code",
   "execution_count": 14,
   "id": "f3ea3858",
   "metadata": {},
   "outputs": [
    {
     "name": "stdout",
     "output_type": "stream",
     "text": [
      "=== O QUE É UMA SERIES ===\n",
      "Uma Series é como uma coluna individual do DataFrame\n",
      "\n",
      "Tipo da variável 'nomes': <class 'pandas.core.series.Series'>\n",
      "\n",
      "Primeiros 5 nomes:\n",
      "0           Ana Silva\n",
      "1         Bruno Costa\n",
      "2       Carlos Santos\n",
      "3          Diana Lima\n",
      "4    Eduardo Ferreira\n",
      "Name: Nome, dtype: object\n",
      "\n",
      "Tamanho da Series: 10\n",
      "Nome da Series: Nome\n",
      "Tipo dos dados: object\n"
     ]
    }
   ],
   "source": [
    "print(\"=== O QUE É UMA SERIES ===\")\n",
    "print(\"Uma Series é como uma coluna individual do DataFrame\")\n",
    "\n",
    "# Selecionando uma coluna (retorna uma Series)\n",
    "nomes = df['Nome']\n",
    "print(\"\\nTipo da variável 'nomes':\", type(nomes))\n",
    "print(\"\\nPrimeiros 5 nomes:\")\n",
    "print(nomes.head())\n",
    "\n",
    "# Características de uma Series\n",
    "print(f\"\\nTamanho da Series: {len(nomes)}\")\n",
    "print(f\"Nome da Series: {nomes.name}\")\n",
    "print(f\"Tipo dos dados: {nomes.dtype}\")"
   ]
  },
  {
   "cell_type": "markdown",
   "id": "af4e665f",
   "metadata": {},
   "source": [
    "## Estatísticas Descritivas"
   ]
  },
  {
   "cell_type": "code",
   "execution_count": 15,
   "id": "89bff4ae",
   "metadata": {},
   "outputs": [
    {
     "name": "stdout",
     "output_type": "stream",
     "text": [
      "=== ESTATÍSTICAS DESCRITIVAS ===\n",
      "1. RESUMO ESTATÍSTICO GERAL:\n"
     ]
    },
    {
     "data": {
      "text/html": [
       "<div>\n",
       "<style scoped>\n",
       "    .dataframe tbody tr th:only-of-type {\n",
       "        vertical-align: middle;\n",
       "    }\n",
       "\n",
       "    .dataframe tbody tr th {\n",
       "        vertical-align: top;\n",
       "    }\n",
       "\n",
       "    .dataframe thead th {\n",
       "        text-align: right;\n",
       "    }\n",
       "</style>\n",
       "<table border=\"1\" class=\"dataframe\">\n",
       "  <thead>\n",
       "    <tr style=\"text-align: right;\">\n",
       "      <th></th>\n",
       "      <th>Idade</th>\n",
       "      <th>Nota_1</th>\n",
       "      <th>Nota_2</th>\n",
       "      <th>Nota_3</th>\n",
       "      <th>Faltas</th>\n",
       "    </tr>\n",
       "  </thead>\n",
       "  <tbody>\n",
       "    <tr>\n",
       "      <th>count</th>\n",
       "      <td>10.00000</td>\n",
       "      <td>10.000000</td>\n",
       "      <td>10.000000</td>\n",
       "      <td>10.00000</td>\n",
       "      <td>10.000000</td>\n",
       "    </tr>\n",
       "    <tr>\n",
       "      <th>mean</th>\n",
       "      <td>21.10000</td>\n",
       "      <td>8.030000</td>\n",
       "      <td>8.170000</td>\n",
       "      <td>7.94000</td>\n",
       "      <td>4.300000</td>\n",
       "    </tr>\n",
       "    <tr>\n",
       "      <th>std</th>\n",
       "      <td>1.66333</td>\n",
       "      <td>0.992248</td>\n",
       "      <td>0.874389</td>\n",
       "      <td>0.82758</td>\n",
       "      <td>3.622461</td>\n",
       "    </tr>\n",
       "    <tr>\n",
       "      <th>min</th>\n",
       "      <td>19.00000</td>\n",
       "      <td>6.500000</td>\n",
       "      <td>6.800000</td>\n",
       "      <td>6.80000</td>\n",
       "      <td>0.000000</td>\n",
       "    </tr>\n",
       "    <tr>\n",
       "      <th>25%</th>\n",
       "      <td>20.00000</td>\n",
       "      <td>7.325000</td>\n",
       "      <td>7.600000</td>\n",
       "      <td>7.42500</td>\n",
       "      <td>2.000000</td>\n",
       "    </tr>\n",
       "    <tr>\n",
       "      <th>50%</th>\n",
       "      <td>21.00000</td>\n",
       "      <td>8.100000</td>\n",
       "      <td>8.100000</td>\n",
       "      <td>7.85000</td>\n",
       "      <td>3.500000</td>\n",
       "    </tr>\n",
       "    <tr>\n",
       "      <th>75%</th>\n",
       "      <td>22.00000</td>\n",
       "      <td>8.725000</td>\n",
       "      <td>8.925000</td>\n",
       "      <td>8.42500</td>\n",
       "      <td>5.750000</td>\n",
       "    </tr>\n",
       "    <tr>\n",
       "      <th>max</th>\n",
       "      <td>24.00000</td>\n",
       "      <td>9.500000</td>\n",
       "      <td>9.300000</td>\n",
       "      <td>9.30000</td>\n",
       "      <td>12.000000</td>\n",
       "    </tr>\n",
       "  </tbody>\n",
       "</table>\n",
       "</div>"
      ],
      "text/plain": [
       "          Idade     Nota_1     Nota_2    Nota_3     Faltas\n",
       "count  10.00000  10.000000  10.000000  10.00000  10.000000\n",
       "mean   21.10000   8.030000   8.170000   7.94000   4.300000\n",
       "std     1.66333   0.992248   0.874389   0.82758   3.622461\n",
       "min    19.00000   6.500000   6.800000   6.80000   0.000000\n",
       "25%    20.00000   7.325000   7.600000   7.42500   2.000000\n",
       "50%    21.00000   8.100000   8.100000   7.85000   3.500000\n",
       "75%    22.00000   8.725000   8.925000   8.42500   5.750000\n",
       "max    24.00000   9.500000   9.300000   9.30000  12.000000"
      ]
     },
     "execution_count": 15,
     "metadata": {},
     "output_type": "execute_result"
    }
   ],
   "source": [
    "print(\"=== ESTATÍSTICAS DESCRITIVAS ===\")\n",
    "\n",
    "print(\"1. RESUMO ESTATÍSTICO GERAL:\")\n",
    "df.describe()"
   ]
  },
  {
   "cell_type": "code",
   "execution_count": 16,
   "id": "7cce7d99",
   "metadata": {},
   "outputs": [
    {
     "name": "stdout",
     "output_type": "stream",
     "text": [
      "\n",
      "2. ESTATÍSTICAS ESPECÍFICAS:\n",
      "Idade média dos estudantes: 21.1 anos\n",
      "Idade mínima: 19 anos\n",
      "Idade máxima: 24 anos\n",
      "\n",
      "Média da primeira prova: 8.03\n",
      "Média da segunda prova: 8.17\n",
      "Média da terceira prova: 7.94\n",
      "\n",
      "3. CONTAGEM DE VALORES:\n",
      "Quantidade de estudantes por curso:\n"
     ]
    },
    {
     "data": {
      "text/plain": [
       "Curso\n",
       "Matemática    4\n",
       "História      3\n",
       "Biologia      3\n",
       "Name: count, dtype: int64"
      ]
     },
     "execution_count": 16,
     "metadata": {},
     "output_type": "execute_result"
    }
   ],
   "source": [
    "print(\"\\n2. ESTATÍSTICAS ESPECÍFICAS:\")\n",
    "print(f\"Idade média dos estudantes: {df['Idade'].mean():.1f} anos\")\n",
    "print(f\"Idade mínima: {df['Idade'].min()} anos\")\n",
    "print(f\"Idade máxima: {df['Idade'].max()} anos\")\n",
    "\n",
    "print(f\"\\nMédia da primeira prova: {df['Nota_1'].mean():.2f}\")\n",
    "print(f\"Média da segunda prova: {df['Nota_2'].mean():.2f}\")\n",
    "print(f\"Média da terceira prova: {df['Nota_3'].mean():.2f}\")\n",
    "\n",
    "print(\"\\n3. CONTAGEM DE VALORES:\")\n",
    "print(\"Quantidade de estudantes por curso:\")\n",
    "df['Curso'].value_counts()"
   ]
  },
  {
   "cell_type": "code",
   "execution_count": 3,
   "id": "13e4f421",
   "metadata": {},
   "outputs": [
    {
     "name": "stdout",
     "output_type": "stream",
     "text": [
      "\n",
      "2. MÚLTIPLAS COLUNAS (retorna DataFrame):\n",
      "<class 'pandas.core.frame.DataFrame'>\n"
     ]
    },
    {
     "data": {
      "text/html": [
       "<div>\n",
       "<style scoped>\n",
       "    .dataframe tbody tr th:only-of-type {\n",
       "        vertical-align: middle;\n",
       "    }\n",
       "\n",
       "    .dataframe tbody tr th {\n",
       "        vertical-align: top;\n",
       "    }\n",
       "\n",
       "    .dataframe thead th {\n",
       "        text-align: right;\n",
       "    }\n",
       "</style>\n",
       "<table border=\"1\" class=\"dataframe\">\n",
       "  <thead>\n",
       "    <tr style=\"text-align: right;\">\n",
       "      <th></th>\n",
       "      <th>Nome</th>\n",
       "      <th>Idade</th>\n",
       "      <th>Curso</th>\n",
       "    </tr>\n",
       "  </thead>\n",
       "  <tbody>\n",
       "    <tr>\n",
       "      <th>0</th>\n",
       "      <td>Ana Silva</td>\n",
       "      <td>20</td>\n",
       "      <td>Matemática</td>\n",
       "    </tr>\n",
       "    <tr>\n",
       "      <th>1</th>\n",
       "      <td>Bruno Costa</td>\n",
       "      <td>22</td>\n",
       "      <td>História</td>\n",
       "    </tr>\n",
       "    <tr>\n",
       "      <th>2</th>\n",
       "      <td>Carlos Santos</td>\n",
       "      <td>19</td>\n",
       "      <td>Matemática</td>\n",
       "    </tr>\n",
       "    <tr>\n",
       "      <th>3</th>\n",
       "      <td>Diana Lima</td>\n",
       "      <td>21</td>\n",
       "      <td>Biologia</td>\n",
       "    </tr>\n",
       "    <tr>\n",
       "      <th>4</th>\n",
       "      <td>Eduardo Ferreira</td>\n",
       "      <td>23</td>\n",
       "      <td>História</td>\n",
       "    </tr>\n",
       "  </tbody>\n",
       "</table>\n",
       "</div>"
      ],
      "text/plain": [
       "               Nome  Idade       Curso\n",
       "0         Ana Silva     20  Matemática\n",
       "1       Bruno Costa     22    História\n",
       "2     Carlos Santos     19  Matemática\n",
       "3        Diana Lima     21    Biologia\n",
       "4  Eduardo Ferreira     23    História"
      ]
     },
     "execution_count": 3,
     "metadata": {},
     "output_type": "execute_result"
    }
   ],
   "source": [
    "# Múltiplas colunas\n",
    "print(\"\\n2. MÚLTIPLAS COLUNAS (retorna DataFrame):\")\n",
    "info_basica = df[['Nome', 'Idade', 'Curso']]\n",
    "print(type(info_basica))\n",
    "info_basica.head()\n",
    "info_basica.head()"
   ]
  },
  {
   "cell_type": "markdown",
   "id": "e2243722",
   "metadata": {},
   "source": [
    "## Selecionando Linhas por Posição"
   ]
  },
  {
   "cell_type": "code",
   "execution_count": 9,
   "id": "4c8fba53",
   "metadata": {},
   "outputs": [
    {
     "name": "stdout",
     "output_type": "stream",
     "text": [
      "=== SELECIONANDO LINHAS POR POSIÇÃO ===\n",
      "1. PRIMEIRA LINHA (iloc[0]):\n",
      "Nome       Ana Silva\n",
      "Idade             20\n",
      "Curso     Matemática\n",
      "Nota_1           8.5\n",
      "Nota_2           9.0\n",
      "Nota_3           8.2\n",
      "Faltas             2\n",
      "Name: 0, dtype: object\n",
      "\n",
      "2. PRIMEIRAS 3 LINHAS (iloc[0:3]):\n",
      "\n",
      "3. linhas e colunas específicas:\n",
      "Ana Silva\n",
      "0      Ana Silva\n",
      "1    Bruno Costa\n",
      "Name: Nome, dtype: object\n",
      "          Nome  Idade\n",
      "0    Ana Silva     20\n",
      "1  Bruno Costa     22\n"
     ]
    }
   ],
   "source": [
    "print(\"=== SELECIONANDO LINHAS POR POSIÇÃO ===\")\n",
    "\n",
    "print(\"1. PRIMEIRA LINHA (iloc[0]):\")\n",
    "print(df.iloc[0])\n",
    "\n",
    "print(\"\\n2. PRIMEIRAS 3 LINHAS (iloc[0:3]):\")\n",
    "df.iloc[0:3]\n",
    "\n",
    "print(\"\\n3. linhas e colunas específicas:\")\n",
    "print(df.iloc[0,0]) #registro da primeira linha e primeira coluna (nome)\n",
    "print(df.iloc[0:2,0]) #registro das duas primeiras linhas e primeira coluna (nome)\n",
    "print(df.iloc[0:2,0:2]) #registro das duas primeiras linhas duas primeiras colunas (nome, idade)"
   ]
  },
  {
   "cell_type": "markdown",
   "id": "449e8d00",
   "metadata": {},
   "source": [
    "## Novas Colunas"
   ]
  },
  {
   "cell_type": "code",
   "execution_count": 10,
   "id": "6ff6c787",
   "metadata": {},
   "outputs": [
    {
     "name": "stdout",
     "output_type": "stream",
     "text": [
      "=== CRIANDO NOVAS COLUNAS ===\n",
      "1. COLUNA MÉDIA CRIADA:\n"
     ]
    },
    {
     "data": {
      "text/html": [
       "<div>\n",
       "<style scoped>\n",
       "    .dataframe tbody tr th:only-of-type {\n",
       "        vertical-align: middle;\n",
       "    }\n",
       "\n",
       "    .dataframe tbody tr th {\n",
       "        vertical-align: top;\n",
       "    }\n",
       "\n",
       "    .dataframe thead th {\n",
       "        text-align: right;\n",
       "    }\n",
       "</style>\n",
       "<table border=\"1\" class=\"dataframe\">\n",
       "  <thead>\n",
       "    <tr style=\"text-align: right;\">\n",
       "      <th></th>\n",
       "      <th>Nome</th>\n",
       "      <th>Nota_1</th>\n",
       "      <th>Nota_2</th>\n",
       "      <th>Nota_3</th>\n",
       "      <th>Media</th>\n",
       "    </tr>\n",
       "  </thead>\n",
       "  <tbody>\n",
       "    <tr>\n",
       "      <th>0</th>\n",
       "      <td>Ana Silva</td>\n",
       "      <td>8.5</td>\n",
       "      <td>9.0</td>\n",
       "      <td>8.2</td>\n",
       "      <td>8.566667</td>\n",
       "    </tr>\n",
       "    <tr>\n",
       "      <th>1</th>\n",
       "      <td>Bruno Costa</td>\n",
       "      <td>7.2</td>\n",
       "      <td>6.8</td>\n",
       "      <td>7.5</td>\n",
       "      <td>7.166667</td>\n",
       "    </tr>\n",
       "    <tr>\n",
       "      <th>2</th>\n",
       "      <td>Carlos Santos</td>\n",
       "      <td>9.1</td>\n",
       "      <td>8.7</td>\n",
       "      <td>9.3</td>\n",
       "      <td>9.033333</td>\n",
       "    </tr>\n",
       "    <tr>\n",
       "      <th>3</th>\n",
       "      <td>Diana Lima</td>\n",
       "      <td>6.8</td>\n",
       "      <td>7.5</td>\n",
       "      <td>7.0</td>\n",
       "      <td>7.100000</td>\n",
       "    </tr>\n",
       "    <tr>\n",
       "      <th>4</th>\n",
       "      <td>Eduardo Ferreira</td>\n",
       "      <td>7.9</td>\n",
       "      <td>8.2</td>\n",
       "      <td>7.6</td>\n",
       "      <td>7.900000</td>\n",
       "    </tr>\n",
       "  </tbody>\n",
       "</table>\n",
       "</div>"
      ],
      "text/plain": [
       "               Nome  Nota_1  Nota_2  Nota_3     Media\n",
       "0         Ana Silva     8.5     9.0     8.2  8.566667\n",
       "1       Bruno Costa     7.2     6.8     7.5  7.166667\n",
       "2     Carlos Santos     9.1     8.7     9.3  9.033333\n",
       "3        Diana Lima     6.8     7.5     7.0  7.100000\n",
       "4  Eduardo Ferreira     7.9     8.2     7.6  7.900000"
      ]
     },
     "execution_count": 10,
     "metadata": {},
     "output_type": "execute_result"
    }
   ],
   "source": [
    "print(\"=== CRIANDO NOVAS COLUNAS ===\")\n",
    "\n",
    "# Calculando a média das três notas\n",
    "df['Media'] = (df['Nota_1'] + df['Nota_2'] + df['Nota_3']) / 3\n",
    "print(\"1. COLUNA MÉDIA CRIADA:\")\n",
    "df[['Nome', 'Nota_1', 'Nota_2', 'Nota_3', 'Media']].head()"
   ]
  }
 ],
 "metadata": {
  "kernelspec": {
   "display_name": "Python 3",
   "language": "python",
   "name": "python3"
  },
  "language_info": {
   "codemirror_mode": {
    "name": "ipython",
    "version": 3
   },
   "file_extension": ".py",
   "mimetype": "text/x-python",
   "name": "python",
   "nbconvert_exporter": "python",
   "pygments_lexer": "ipython3",
   "version": "3.9.6"
  }
 },
 "nbformat": 4,
 "nbformat_minor": 5
}
