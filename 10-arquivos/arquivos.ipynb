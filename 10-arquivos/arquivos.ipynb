{
 "cells": [
  {
   "cell_type": "markdown",
   "id": "0b95a686",
   "metadata": {},
   "source": [
    "# Arquivos"
   ]
  },
  {
   "cell_type": "code",
   "execution_count": 1,
   "id": "6bfb2e2a",
   "metadata": {},
   "outputs": [],
   "source": [
    "arquivo=open(\"números.txt\",\"w\") \n",
    "for linha in range(1,101): \n",
    "    arquivo.write(\"%d\\n\" % linha) \n",
    "arquivo.close() "
   ]
  },
  {
   "cell_type": "markdown",
   "id": "984ce176",
   "metadata": {},
   "source": [
    "## lendo arquivo"
   ]
  },
  {
   "cell_type": "code",
   "execution_count": null,
   "id": "7de7f7cf",
   "metadata": {},
   "outputs": [
    {
     "name": "stdout",
     "output_type": "stream",
     "text": [
      "1\n",
      "\n",
      "2\n",
      "\n",
      "3\n",
      "\n",
      "4\n",
      "\n",
      "5\n",
      "\n",
      "6\n",
      "\n",
      "7\n",
      "\n",
      "8\n",
      "\n",
      "9\n",
      "\n",
      "10\n",
      "\n",
      "11\n",
      "\n",
      "12\n",
      "\n",
      "13\n",
      "\n",
      "14\n",
      "\n",
      "15\n",
      "\n",
      "16\n",
      "\n",
      "17\n",
      "\n",
      "18\n",
      "\n",
      "19\n",
      "\n",
      "20\n",
      "\n",
      "21\n",
      "\n",
      "22\n",
      "\n",
      "23\n",
      "\n",
      "24\n",
      "\n",
      "25\n",
      "\n",
      "26\n",
      "\n",
      "27\n",
      "\n",
      "28\n",
      "\n",
      "29\n",
      "\n",
      "30\n",
      "\n",
      "31\n",
      "\n",
      "32\n",
      "\n",
      "33\n",
      "\n",
      "34\n",
      "\n",
      "35\n",
      "\n",
      "36\n",
      "\n",
      "37\n",
      "\n",
      "38\n",
      "\n",
      "39\n",
      "\n",
      "40\n",
      "\n",
      "41\n",
      "\n",
      "42\n",
      "\n",
      "43\n",
      "\n",
      "44\n",
      "\n",
      "45\n",
      "\n",
      "46\n",
      "\n",
      "47\n",
      "\n",
      "48\n",
      "\n",
      "49\n",
      "\n",
      "50\n",
      "\n",
      "51\n",
      "\n",
      "52\n",
      "\n",
      "53\n",
      "\n",
      "54\n",
      "\n",
      "55\n",
      "\n",
      "56\n",
      "\n",
      "57\n",
      "\n",
      "58\n",
      "\n",
      "59\n",
      "\n",
      "60\n",
      "\n",
      "61\n",
      "\n",
      "62\n",
      "\n",
      "63\n",
      "\n",
      "64\n",
      "\n",
      "65\n",
      "\n",
      "66\n",
      "\n",
      "67\n",
      "\n",
      "68\n",
      "\n",
      "69\n",
      "\n",
      "70\n",
      "\n",
      "71\n",
      "\n",
      "72\n",
      "\n",
      "73\n",
      "\n",
      "74\n",
      "\n",
      "75\n",
      "\n",
      "76\n",
      "\n",
      "77\n",
      "\n",
      "78\n",
      "\n",
      "79\n",
      "\n",
      "80\n",
      "\n",
      "81\n",
      "\n",
      "82\n",
      "\n",
      "83\n",
      "\n",
      "84\n",
      "\n",
      "85\n",
      "\n",
      "86\n",
      "\n",
      "87\n",
      "\n",
      "88\n",
      "\n",
      "89\n",
      "\n",
      "90\n",
      "\n",
      "91\n",
      "\n",
      "92\n",
      "\n",
      "93\n",
      "\n",
      "94\n",
      "\n",
      "95\n",
      "\n",
      "96\n",
      "\n",
      "97\n",
      "\n",
      "98\n",
      "\n",
      "99\n",
      "\n",
      "100\n",
      "\n"
     ]
    }
   ],
   "source": [
    "arquivo=open(\"números.txt\",\"r\") #1\n",
    "for linha in arquivo.readlines(): \n",
    "    print(linha) \n",
    "arquivo.close() "
   ]
  },
  {
   "cell_type": "markdown",
   "id": "5454a516",
   "metadata": {},
   "source": [
    "## Escrevendo com WITH"
   ]
  },
  {
   "cell_type": "code",
   "execution_count": 3,
   "id": "c2c14f1c",
   "metadata": {},
   "outputs": [],
   "source": [
    "with open(\"números.txt\", \"w\") as arquivo:\n",
    "    for linha in range(1, 101):\n",
    "        arquivo.write(f\"{linha}\\n\")"
   ]
  },
  {
   "cell_type": "code",
   "execution_count": 4,
   "id": "7b0ec8b6",
   "metadata": {},
   "outputs": [],
   "source": [
    "impares=open(\"impares.txt\",\"w\")\n",
    "pares=open(\"pares.txt\",\"w\")\n",
    "for n in range(0,1000):\n",
    "    if n % 2 == 0:\n",
    "        pares.write(\"%d\\n\" % n)\n",
    "    else:\n",
    "        impares.write(\"%d\\n\" % n)\n",
    "impares.close()\n",
    "pares.close()"
   ]
  },
  {
   "cell_type": "code",
   "execution_count": 5,
   "id": "2e3541cd",
   "metadata": {},
   "outputs": [],
   "source": [
    "múltiplos4=open(\"múltiplos de 4.txt\",\"w\")\n",
    "pares=open(\"pares.txt\")\n",
    "for l in pares.readlines():\n",
    "    if int(l) % 4 == 0: \n",
    "        múltiplos4.write(l)\n",
    "pares.close()\n",
    "múltiplos4.close()"
   ]
  },
  {
   "cell_type": "markdown",
   "id": "02d5360b",
   "metadata": {},
   "source": [
    "## Processando elementos de cada linha"
   ]
  },
  {
   "cell_type": "code",
   "execution_count": null,
   "id": "592e4580",
   "metadata": {},
   "outputs": [
    {
     "name": "stdout",
     "output_type": "stream",
     "text": [
      "Linha: Python é top\n",
      " -> P\n",
      " -> y\n",
      " -> t\n",
      " -> h\n",
      " -> o\n",
      " -> n\n",
      " ->  \n",
      " -> é\n",
      " ->  \n",
      " -> t\n",
      " -> o\n",
      " -> p\n",
      "Linha: Aprender é bom\n",
      " -> A\n",
      " -> p\n",
      " -> r\n",
      " -> e\n",
      " -> n\n",
      " -> d\n",
      " -> e\n",
      " -> r\n",
      " ->  \n",
      " -> é\n",
      " ->  \n",
      " -> b\n",
      " -> o\n",
      " -> m\n"
     ]
    }
   ],
   "source": [
    "with open(\"texto.txt\", \"r\", encoding=\"utf-8\") as arquivo:\n",
    "    for linha in arquivo:\n",
    "        linha = linha.strip()\n",
    "        print(f\"Linha: {linha}\")\n",
    "        for caractere in linha:   # percorre letra por letra\n",
    "            print(f\" -> {caractere}\")"
   ]
  },
  {
   "cell_type": "code",
   "execution_count": 11,
   "id": "4f184600",
   "metadata": {},
   "outputs": [
    {
     "name": "stdout",
     "output_type": "stream",
     "text": [
      "Nome: João, Idade: 25, Estado: SP\n",
      "Nome: Maria, Idade: 30, Estado: RJ\n",
      "Nome: Carlos, Idade: 22, Estado: MG\n"
     ]
    }
   ],
   "source": [
    "with open(\"dados.txt\", \"r\", encoding=\"utf-8\") as arquivo:\n",
    "    for linha in arquivo:\n",
    "        linha = linha.strip()         # \"João 25 SP\"\n",
    "        partes = linha.split()        # [\"João\", \"25\", \"SP\"]\n",
    "        \n",
    "        nome = partes[0]\n",
    "        idade = int(partes[1])\n",
    "        estado = partes[2]\n",
    "        \n",
    "        print(f\"Nome: {nome}, Idade: {idade}, Estado: {estado}\")"
   ]
  },
  {
   "cell_type": "code",
   "execution_count": 13,
   "id": "76a839a5",
   "metadata": {},
   "outputs": [
    {
     "name": "stdout",
     "output_type": "stream",
     "text": [
      "Ana -> média: 8.00\n",
      "Bruno -> média: 6.00\n",
      "Carla -> média: 9.00\n"
     ]
    }
   ],
   "source": [
    "with open(\"notas.txt\", \"r\", encoding=\"utf-8\") as arquivo:\n",
    "    for linha in arquivo:\n",
    "        partes = linha.strip().split()\n",
    "        nome = partes[0]\n",
    "        notas = [int(n) for n in partes[1:]]  # converte em lista de inteiros\n",
    "        media = sum(notas) / len(notas)\n",
    "        print(f\"{nome} -> média: {media:.2f}\")"
   ]
  },
  {
   "cell_type": "markdown",
   "id": "1232c4da",
   "metadata": {},
   "source": [
    "## CSVs"
   ]
  },
  {
   "cell_type": "code",
   "execution_count": 2,
   "id": "5b686604",
   "metadata": {},
   "outputs": [
    {
     "name": "stdout",
     "output_type": "stream",
     "text": [
      "['nome', 'idade', 'cidade']\n",
      "nome\n",
      "idade\n",
      "cidade\n",
      "['Ana', '25', 'São Paulo']\n",
      "Ana\n",
      "25\n",
      "São Paulo\n",
      "['Bruno', '30', 'Rio de Janeiro']\n",
      "Bruno\n",
      "30\n",
      "Rio de Janeiro\n",
      "['Carla', '22', 'Belo Horizonte']\n",
      "Carla\n",
      "22\n",
      "Belo Horizonte\n"
     ]
    }
   ],
   "source": [
    "import csv\n",
    "\n",
    "with open(\"dados.csv\", \"r\", encoding=\"utf-8\") as arquivo:\n",
    "    leitor = csv.reader(arquivo)\n",
    "    for linha in leitor:\n",
    "        print(linha)\n",
    "        for e in linha:\n",
    "            print(e)"
   ]
  },
  {
   "cell_type": "markdown",
   "id": "870781f5",
   "metadata": {},
   "source": [
    "## JSON"
   ]
  },
  {
   "cell_type": "code",
   "execution_count": null,
   "id": "f912fa32",
   "metadata": {},
   "outputs": [
    {
     "name": "stdout",
     "output_type": "stream",
     "text": [
      "[{'nome': 'Ana', 'idade': 25, 'cidade': 'São Paulo'}, {'nome': 'Bruno', 'idade': 30, 'cidade': 'Rio de Janeiro'}, {'nome': 'Carla', 'idade': 22, 'cidade': 'Belo Horizonte'}]\n",
      "{'nome': 'Ana', 'idade': 25, 'cidade': 'São Paulo'}\n",
      "Ana\n"
     ]
    }
   ],
   "source": [
    "import json\n",
    "with open(\"dados.json\", \"r\", encoding=\"utf-8\") as arquivo:\n",
    "    dados = json.load(arquivo)\n",
    "\n",
    "print(dados)\n",
    "print(dados[0])\n",
    "print(dados[0][\"nome\"])"
   ]
  },
  {
   "cell_type": "markdown",
   "id": "b8b9973c",
   "metadata": {},
   "source": [
    "# PANDAS"
   ]
  },
  {
   "cell_type": "code",
   "execution_count": null,
   "id": "497755ff",
   "metadata": {},
   "outputs": [
    {
     "ename": "",
     "evalue": "",
     "output_type": "error",
     "traceback": [
      "\u001b[1;31mRunning cells with 'Python 3.13.7' requires the ipykernel package.\n",
      "\u001b[1;31m<a href='command:jupyter.createPythonEnvAndSelectController'>Create a Python Environment</a> with the required packages.\n",
      "\u001b[1;31mOr install 'ipykernel' using the command: '/opt/homebrew/bin/python3 -m pip install ipykernel -U --user --force-reinstall'"
     ]
    }
   ],
   "source": [
    "import pandas as pd\n",
    "\n",
    "df = pd.read_csv(\"dados.csv\")\n",
    "print(df)"
   ]
  }
 ],
 "metadata": {
  "kernelspec": {
   "display_name": "Python 3",
   "language": "python",
   "name": "python3"
  },
  "language_info": {
   "codemirror_mode": {
    "name": "ipython",
    "version": 3
   },
   "file_extension": ".py",
   "mimetype": "text/x-python",
   "name": "python",
   "nbconvert_exporter": "python",
   "pygments_lexer": "ipython3",
   "version": "3.9.6"
  }
 },
 "nbformat": 4,
 "nbformat_minor": 5
}
