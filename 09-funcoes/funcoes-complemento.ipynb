{
 "cells": [
  {
   "cell_type": "code",
   "execution_count": null,
   "id": "31056e92",
   "metadata": {},
   "outputs": [],
   "source": [
    "# Funções CONTINUAÇÃO"
   ]
  },
  {
   "cell_type": "code",
   "execution_count": null,
   "id": "a143b13c",
   "metadata": {},
   "outputs": [
    {
     "name": "stdout",
     "output_type": "stream",
     "text": [
      "range(1, 1000, 15)\n",
      " A média de valores na lista é: 496.00\n"
     ]
    }
   ],
   "source": [
    "def soma(L):\n",
    "    total = 0\n",
    "    for elemento in L:\n",
    "        total += elemento\n",
    "    return total\n",
    "\n",
    "def media(L):\n",
    "    return (soma(L)/len(L))\n",
    "\n",
    "#simulando leitura de uma lista\n",
    "minha_lista = range(1,1000,15)\n",
    "\n",
    "print(minha_lista)\n",
    "media_lista = media(minha_lista)\n",
    "print(\" A média de valores na lista é: %.2f\" % media_lista)"
   ]
  },
  {
   "cell_type": "markdown",
   "id": "ab865e13",
   "metadata": {},
   "source": [
    "## Variáveis locais e globais"
   ]
  },
  {
   "cell_type": "code",
   "execution_count": 9,
   "id": "ce9dcb87",
   "metadata": {},
   "outputs": [
    {
     "name": "stdout",
     "output_type": "stream",
     "text": [
      "Variável global: 15\n",
      "Variável local: 10\n",
      "Variável global fora da função: 15\n"
     ]
    }
   ],
   "source": [
    "variavel_global = 5\n",
    "\n",
    "def exemplo():\n",
    "    variavel_local = 10\n",
    "    global variavel_global\n",
    "    variavel_global = 15\n",
    "    print(\"Variável global: %d\" % variavel_global)\n",
    "    print(\"Variável local: %d\" % variavel_local)\n",
    "\n",
    "#Chamando a função exemplo\n",
    "exemplo()\n",
    "print(\"Variável global fora da função: %d\" % variavel_global)\n"
   ]
  },
  {
   "cell_type": "markdown",
   "id": "1a518783",
   "metadata": {},
   "source": [
    "## Validadno entrada de dados"
   ]
  },
  {
   "cell_type": "code",
   "execution_count": 13,
   "id": "d2693298",
   "metadata": {},
   "outputs": [
    {
     "name": "stdout",
     "output_type": "stream",
     "text": [
      "Valor inválido. Digite um valor entre 0 e 10\n",
      "Valor inválido. Digite um valor entre 0 e 10\n"
     ]
    },
    {
     "data": {
      "text/plain": [
       "5"
      ]
     },
     "execution_count": 13,
     "metadata": {},
     "output_type": "execute_result"
    }
   ],
   "source": [
    "\n",
    "def faixa_int(pergunta, mínimo, máximo):\n",
    "    while True:\n",
    "        v=int(input(pergunta))\n",
    "        if v<mínimo or v>máximo:\n",
    "            print(\"Valor inválido. Digite um valor entre %d e %d\" % (mínimo,máximo))\n",
    "        else:\n",
    "            return v\n",
    "        \n",
    "faixa_int(\"Insira sua nota\", 0, 10)"
   ]
  },
  {
   "cell_type": "markdown",
   "id": "3b3eeb94",
   "metadata": {},
   "source": [
    "## Parametros obrigatórios e opcionais"
   ]
  },
  {
   "cell_type": "code",
   "execution_count": null,
   "id": "d435fcf2",
   "metadata": {},
   "outputs": [
    {
     "name": "stdout",
     "output_type": "stream",
     "text": [
      "10\n",
      "10\n"
     ]
    }
   ],
   "source": [
    "def soma(a, b, imprime=False):\n",
    "    s = a + b\n",
    "    if imprime:\n",
    "        print(s)\n",
    "    return s\n",
    "\n",
    "minha_soma = soma(1,9)\n",
    "print(minha_soma)"
   ]
  },
  {
   "cell_type": "markdown",
   "id": "d2385596",
   "metadata": {},
   "source": [
    "## Função como parametro para outra função"
   ]
  },
  {
   "cell_type": "code",
   "execution_count": 21,
   "id": "8d57bcd6",
   "metadata": {},
   "outputs": [
    {
     "name": "stdout",
     "output_type": "stream",
     "text": [
      "9\n",
      "19\n"
     ]
    }
   ],
   "source": [
    "def soma(a,b):\n",
    "    return a+b\n",
    "def subtração(a,b):\n",
    "    return a-b\n",
    "def imprime(a,b, foperacao):\n",
    "    print(foperacao(a,b)) \n",
    "\n",
    "imprime(5,4,soma)\n",
    "imprime(20,1,subtração)"
   ]
  }
 ],
 "metadata": {
  "kernelspec": {
   "display_name": "Python 3",
   "language": "python",
   "name": "python3"
  },
  "language_info": {
   "codemirror_mode": {
    "name": "ipython",
    "version": 3
   },
   "file_extension": ".py",
   "mimetype": "text/x-python",
   "name": "python",
   "nbconvert_exporter": "python",
   "pygments_lexer": "ipython3",
   "version": "3.9.6"
  }
 },
 "nbformat": 4,
 "nbformat_minor": 5
}
