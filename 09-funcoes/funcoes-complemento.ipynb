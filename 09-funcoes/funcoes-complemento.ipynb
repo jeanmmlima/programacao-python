{
 "cells": [
  {
   "cell_type": "code",
   "execution_count": null,
   "id": "31056e92",
   "metadata": {},
   "outputs": [],
   "source": [
    "# Funções CONTINUAÇÃO"
   ]
  },
  {
   "cell_type": "code",
   "execution_count": null,
   "id": "a143b13c",
   "metadata": {},
   "outputs": [
    {
     "name": "stdout",
     "output_type": "stream",
     "text": [
      "range(1, 1000, 15)\n",
      " A média de valores na lista é: 496.00\n"
     ]
    }
   ],
   "source": [
    "def soma(L):\n",
    "    total = 0\n",
    "    for elemento in L:\n",
    "        total += elemento\n",
    "    return total\n",
    "\n",
    "def media(L):\n",
    "    return (soma(L)/len(L))\n",
    "\n",
    "#simulando leitura de uma lista\n",
    "minha_lista = range(1,1000,15)\n",
    "\n",
    "print(minha_lista)\n",
    "media_lista = media(minha_lista)\n",
    "print(\" A média de valores na lista é: %.2f\" % media_lista)"
   ]
  },
  {
   "cell_type": "markdown",
   "id": "ab865e13",
   "metadata": {},
   "source": [
    "## Variáveis locais e globais"
   ]
  },
  {
   "cell_type": "code",
   "execution_count": 9,
   "id": "ce9dcb87",
   "metadata": {},
   "outputs": [
    {
     "name": "stdout",
     "output_type": "stream",
     "text": [
      "Variável global: 15\n",
      "Variável local: 10\n",
      "Variável global fora da função: 15\n"
     ]
    }
   ],
   "source": [
    "variavel_global = 5\n",
    "\n",
    "def exemplo():\n",
    "    variavel_local = 10\n",
    "    global variavel_global\n",
    "    variavel_global = 15\n",
    "    print(\"Variável global: %d\" % variavel_global)\n",
    "    print(\"Variável local: %d\" % variavel_local)\n",
    "\n",
    "#Chamando a função exemplo\n",
    "exemplo()\n",
    "print(\"Variável global fora da função: %d\" % variavel_global)\n"
   ]
  },
  {
   "cell_type": "markdown",
   "id": "1a518783",
   "metadata": {},
   "source": [
    "## Validadno entrada de dados"
   ]
  },
  {
   "cell_type": "code",
   "execution_count": 13,
   "id": "d2693298",
   "metadata": {},
   "outputs": [
    {
     "name": "stdout",
     "output_type": "stream",
     "text": [
      "Valor inválido. Digite um valor entre 0 e 10\n",
      "Valor inválido. Digite um valor entre 0 e 10\n"
     ]
    },
    {
     "data": {
      "text/plain": [
       "5"
      ]
     },
     "execution_count": 13,
     "metadata": {},
     "output_type": "execute_result"
    }
   ],
   "source": [
    "\n",
    "def faixa_int(pergunta, mínimo, máximo):\n",
    "    while True:\n",
    "        v=int(input(pergunta))\n",
    "        if v<mínimo or v>máximo:\n",
    "            print(\"Valor inválido. Digite um valor entre %d e %d\" % (mínimo,máximo))\n",
    "        else:\n",
    "            return v\n",
    "        \n",
    "faixa_int(\"Insira sua nota\", 0, 10)"
   ]
  },
  {
   "cell_type": "markdown",
   "id": "3b3eeb94",
   "metadata": {},
   "source": [
    "## Parametros obrigatórios e opcionais"
   ]
  },
  {
   "cell_type": "code",
   "execution_count": null,
   "id": "d435fcf2",
   "metadata": {},
   "outputs": [
    {
     "name": "stdout",
     "output_type": "stream",
     "text": [
      "10\n",
      "10\n"
     ]
    }
   ],
   "source": [
    "def soma(a, b, imprime=False):\n",
    "    s = a + b\n",
    "    if imprime:\n",
    "        print(s)\n",
    "    return s\n",
    "\n",
    "minha_soma = soma(1,9)\n",
    "print(minha_soma)"
   ]
  },
  {
   "cell_type": "markdown",
   "id": "d2385596",
   "metadata": {},
   "source": [
    "## Função como parametro para outra função"
   ]
  },
  {
   "cell_type": "code",
   "execution_count": 3,
   "id": "8d57bcd6",
   "metadata": {},
   "outputs": [
    {
     "name": "stdout",
     "output_type": "stream",
     "text": [
      "9\n",
      "19\n"
     ]
    }
   ],
   "source": [
    "def soma(a,b):\n",
    "    return a+b\n",
    "def subtração(a,b):\n",
    "    return a-b\n",
    "def imprime(a,b, foperacao):\n",
    "    print(foperacao(a,b)) \n",
    "\n",
    "imprime(5,4,soma)\n",
    "imprime(20,1,subtração)"
   ]
  },
  {
   "cell_type": "markdown",
   "id": "e0d449c2",
   "metadata": {},
   "source": [
    "# Funções Recursivas"
   ]
  },
  {
   "cell_type": "code",
   "execution_count": 2,
   "id": "7d4f812e",
   "metadata": {},
   "outputs": [],
   "source": [
    "def minhafuncao():\n",
    "    print(\"Olá minha função\")\n",
    "    minhafuncao()\n",
    "\n"
   ]
  },
  {
   "cell_type": "code",
   "execution_count": 6,
   "id": "3487c2f7",
   "metadata": {},
   "outputs": [
    {
     "name": "stdout",
     "output_type": "stream",
     "text": [
      "Ola mundo! 20\n",
      "Ola mundo! 19\n",
      "Ola mundo! 18\n",
      "Ola mundo! 17\n",
      "Ola mundo! 16\n",
      "Ola mundo! 15\n",
      "Ola mundo! 14\n",
      "Ola mundo! 13\n",
      "Ola mundo! 12\n",
      "Ola mundo! 11\n",
      "Ola mundo! 10\n",
      "Ola mundo! 9\n",
      "Ola mundo! 8\n",
      "Ola mundo! 7\n",
      "Ola mundo! 6\n",
      "Ola mundo! 5\n",
      "Ola mundo! 4\n",
      "Ola mundo! 3\n",
      "Ola mundo! 2\n",
      "Ola mundo! 1\n",
      "Fim!\n"
     ]
    }
   ],
   "source": [
    "def minhafuncao(numero_de_prints):\n",
    "    \n",
    "    #caso base\n",
    "    if numero_de_prints == 0: \n",
    "        return print (\"Fim!\")\n",
    "    \n",
    "    #caso recursivo\n",
    "    if(numero_de_prints > 0):\n",
    "        print(\"Ola mundo! %d\" % numero_de_prints)\n",
    "        minhafuncao(numero_de_prints - 1)\n",
    "\n",
    "minhafuncao(20)"
   ]
  },
  {
   "cell_type": "code",
   "execution_count": null,
   "id": "183e4d42",
   "metadata": {},
   "outputs": [
    {
     "name": "stdout",
     "output_type": "stream",
     "text": [
      "120\n"
     ]
    }
   ],
   "source": [
    "def fatorial(n):\n",
    "    #caso base\n",
    "    if n == 0 or n == 1:\n",
    "        return n\n",
    "    else: #caso recrusivo\n",
    "        return n * fatorial(n - 1)\n",
    "    \n",
    "\n",
    "print(fatorial(5))"
   ]
  },
  {
   "cell_type": "code",
   "execution_count": 8,
   "id": "e322a74a",
   "metadata": {},
   "outputs": [
    {
     "name": "stdout",
     "output_type": "stream",
     "text": [
      "ananab\n"
     ]
    }
   ],
   "source": [
    "def inverter(palavra):\n",
    "    if palavra == \"\":\n",
    "        return \"\";\n",
    "    else:\n",
    "        return inverter(palavra[1:]) + palavra[0]\n",
    "    \n",
    "print(inverter(\"banana\"))"
   ]
  }
 ],
 "metadata": {
  "kernelspec": {
   "display_name": "Python 3",
   "language": "python",
   "name": "python3"
  },
  "language_info": {
   "codemirror_mode": {
    "name": "ipython",
    "version": 3
   },
   "file_extension": ".py",
   "mimetype": "text/x-python",
   "name": "python",
   "nbconvert_exporter": "python",
   "pygments_lexer": "ipython3",
   "version": "3.9.6"
  }
 },
 "nbformat": 4,
 "nbformat_minor": 5
}
