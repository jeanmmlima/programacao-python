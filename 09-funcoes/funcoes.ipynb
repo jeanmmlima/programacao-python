{
 "cells": [
  {
   "cell_type": "markdown",
   "id": "21ed2e54",
   "metadata": {},
   "source": [
    "# Funções"
   ]
  },
  {
   "cell_type": "code",
   "execution_count": null,
   "id": "336b7493",
   "metadata": {},
   "outputs": [
    {
     "name": "stdout",
     "output_type": "stream",
     "text": [
      "11\n",
      "15\n",
      "25\n"
     ]
    }
   ],
   "source": [
    "def soma(a,b): #1\n",
    "    print(a+b)\n",
    "\n",
    "soma(2,9)\n",
    "soma(7,8)\n",
    "soma(10,15)"
   ]
  },
  {
   "cell_type": "code",
   "execution_count": 2,
   "id": "1566867d",
   "metadata": {},
   "outputs": [
    {
     "name": "stdout",
     "output_type": "stream",
     "text": [
      "11\n"
     ]
    }
   ],
   "source": [
    "def soma(a,b):\n",
    "    return a+b\n",
    "\n",
    "print(soma(2,9))"
   ]
  },
  {
   "cell_type": "code",
   "execution_count": 4,
   "id": "413bcb4a",
   "metadata": {},
   "outputs": [
    {
     "name": "stdout",
     "output_type": "stream",
     "text": [
      "O número é par\n",
      "O número é impar\n"
     ]
    }
   ],
   "source": [
    "def epar(x):\n",
    "    resultado = x % 2 == 0\n",
    "    if(resultado):\n",
    "        return \"O número é par\"\n",
    "    else:\n",
    "        return \"O número é impar\"\n",
    "\n",
    "print(epar(2))\n",
    "print(epar(3))"
   ]
  }
 ],
 "metadata": {
  "kernelspec": {
   "display_name": "Python 3",
   "language": "python",
   "name": "python3"
  },
  "language_info": {
   "codemirror_mode": {
    "name": "ipython",
    "version": 3
   },
   "file_extension": ".py",
   "mimetype": "text/x-python",
   "name": "python",
   "nbconvert_exporter": "python",
   "pygments_lexer": "ipython3",
   "version": "3.9.6"
  }
 },
 "nbformat": 4,
 "nbformat_minor": 5
}
