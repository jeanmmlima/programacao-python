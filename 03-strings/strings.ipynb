{
 "cells": [
  {
   "cell_type": "markdown",
   "id": "160926a9",
   "metadata": {},
   "source": [
    "# Strings"
   ]
  },
  {
   "cell_type": "markdown",
   "id": "3ea89bcf",
   "metadata": {},
   "source": [
    "## Tamanho da string com a função len"
   ]
  },
  {
   "cell_type": "code",
   "execution_count": 3,
   "id": "bc94add5",
   "metadata": {},
   "outputs": [
    {
     "name": "stdout",
     "output_type": "stream",
     "text": [
      "1\n",
      "2\n",
      "0\n",
      "15\n"
     ]
    }
   ],
   "source": [
    "print(len(\"A\"))\n",
    "\n",
    "print(len(\"AB\"))\n",
    "\n",
    "print(len(\"\"))\n",
    "\n",
    "frase = \"Meu nome é João\"\n",
    "print(len(frase))"
   ]
  },
  {
   "cell_type": "markdown",
   "id": "ce61dbfe",
   "metadata": {},
   "source": [
    "## Acessando os elementos da string\n"
   ]
  },
  {
   "cell_type": "code",
   "execution_count": 5,
   "id": "7dbfd728",
   "metadata": {},
   "outputs": [
    {
     "name": "stdout",
     "output_type": "stream",
     "text": [
      "A\n",
      "B\n",
      "F\n",
      "A\n"
     ]
    }
   ],
   "source": [
    "texto = \"ABCDEF\"\n",
    "print(texto[0])   #caractere de indice 0 - A\n",
    "print(texto[1])   #caractere de indice 1 - B\n",
    "print(texto[5])   #caractere de indice 5 - F \n",
    "\n",
    "primeira_letra = texto[0]\n",
    "print(primeira_letra)\n"
   ]
  },
  {
   "cell_type": "markdown",
   "id": "a95c4ff9",
   "metadata": {},
   "source": [
    "### Fora do index"
   ]
  },
  {
   "cell_type": "code",
   "execution_count": 6,
   "id": "276b7d85",
   "metadata": {},
   "outputs": [
    {
     "ename": "IndexError",
     "evalue": "string index out of range",
     "output_type": "error",
     "traceback": [
      "\u001b[31m---------------------------------------------------------------------------\u001b[39m",
      "\u001b[31mIndexError\u001b[39m                                Traceback (most recent call last)",
      "\u001b[36mCell\u001b[39m\u001b[36m \u001b[39m\u001b[32mIn[6]\u001b[39m\u001b[32m, line 1\u001b[39m\n\u001b[32m----> \u001b[39m\u001b[32m1\u001b[39m \u001b[38;5;28mprint\u001b[39m(\u001b[43mtexto\u001b[49m\u001b[43m[\u001b[49m\u001b[32;43m6\u001b[39;49m\u001b[43m]\u001b[49m)\n",
      "\u001b[31mIndexError\u001b[39m: string index out of range"
     ]
    }
   ],
   "source": [
    "print(texto[6])"
   ]
  },
  {
   "cell_type": "markdown",
   "id": "dfce6ef7",
   "metadata": {},
   "source": [
    "## Operações com Strings\n",
    "\n",
    "### Concatenação"
   ]
  },
  {
   "cell_type": "code",
   "execution_count": 7,
   "id": "54b35f46",
   "metadata": {},
   "outputs": [
    {
     "name": "stdout",
     "output_type": "stream",
     "text": [
      "Olá, Mundo!\n"
     ]
    }
   ],
   "source": [
    "texto1 = \"Olá, \"\n",
    "texto2 = \"Mundo!\"\n",
    "\n",
    "mensagem = texto1 + texto2\n",
    "\n",
    "print(mensagem)"
   ]
  },
  {
   "cell_type": "code",
   "execution_count": 9,
   "id": "dec9aca3",
   "metadata": {},
   "outputs": [
    {
     "name": "stdout",
     "output_type": "stream",
     "text": [
      "ABCD\n",
      "ABCDDDD\n",
      "XX\n",
      "X----------X\n"
     ]
    }
   ],
   "source": [
    "s = \"ABC\"\n",
    "print(s + \"D\")\n",
    "print(s + \"D\" * 4)\n",
    "print(\"X\" + \"X\")\n",
    "print (\"X\" + 10*\"-\" + \"X\")"
   ]
  },
  {
   "cell_type": "markdown",
   "id": "980affb7",
   "metadata": {},
   "source": [
    "## Composição"
   ]
  },
  {
   "cell_type": "code",
   "execution_count": 11,
   "id": "dd01c49a",
   "metadata": {},
   "outputs": [
    {
     "name": "stdout",
     "output_type": "stream",
     "text": [
      "João tem 20 anos\n",
      "O preco é 100.300000\n"
     ]
    }
   ],
   "source": [
    "idade = int(input(\"Informe a idade: \"))\n",
    "print(\"João tem %d anos\" % idade)\n",
    "\n",
    "preco = float(input(\"Informe o preco: \"))\n",
    "print(\"O preco é %f\" % preco)"
   ]
  },
  {
   "cell_type": "code",
   "execution_count": 14,
   "id": "18dbd7db",
   "metadata": {},
   "outputs": [
    {
     "name": "stdout",
     "output_type": "stream",
     "text": [
      "João tem 30 anos e seu salário é de R$2550.49.\n"
     ]
    }
   ],
   "source": [
    "nome = \"João\"\n",
    "idade = 30\n",
    "salario = 2550.49\n",
    "print(\"%s tem %d anos e seu salário é de R$%.2f.\" % (nome, idade, salario))\n"
   ]
  },
  {
   "cell_type": "markdown",
   "id": "bc5132dd",
   "metadata": {},
   "source": [
    "## Fatiamento"
   ]
  },
  {
   "cell_type": "code",
   "execution_count": 15,
   "id": "3f7c3071",
   "metadata": {},
   "outputs": [
    {
     "name": "stdout",
     "output_type": "stream",
     "text": [
      "AB\n"
     ]
    }
   ],
   "source": [
    "texto = \"ABCDEF\"\n",
    "print(texto[0:2])"
   ]
  }
 ],
 "metadata": {
  "kernelspec": {
   "display_name": "Python 3",
   "language": "python",
   "name": "python3"
  },
  "language_info": {
   "codemirror_mode": {
    "name": "ipython",
    "version": 3
   },
   "file_extension": ".py",
   "mimetype": "text/x-python",
   "name": "python",
   "nbconvert_exporter": "python",
   "pygments_lexer": "ipython3",
   "version": "3.13.5"
  }
 },
 "nbformat": 4,
 "nbformat_minor": 5
}
