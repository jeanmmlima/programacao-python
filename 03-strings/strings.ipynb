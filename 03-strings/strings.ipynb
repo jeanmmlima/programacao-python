{
 "cells": [
  {
   "cell_type": "markdown",
   "id": "160926a9",
   "metadata": {},
   "source": [
    "# Strings"
   ]
  },
  {
   "cell_type": "markdown",
   "id": "3ea89bcf",
   "metadata": {},
   "source": [
    "## Tamanho da string com a função len"
   ]
  },
  {
   "cell_type": "code",
   "execution_count": 17,
   "id": "bc94add5",
   "metadata": {},
   "outputs": [
    {
     "name": "stdout",
     "output_type": "stream",
     "text": [
      "1\n",
      "2\n",
      "0\n",
      "15\n"
     ]
    }
   ],
   "source": [
    "print(len(\"A\"))\n",
    "\n",
    "print(len(\"AB\"))\n",
    "\n",
    "print(len(\"\"))\n",
    "\n",
    "frase = \"Meu nome é João\"\n",
    "print(len(frase))"
   ]
  },
  {
   "cell_type": "markdown",
   "id": "ce61dbfe",
   "metadata": {},
   "source": [
    "## Acessando os elementos da string\n"
   ]
  },
  {
   "cell_type": "code",
   "execution_count": 18,
   "id": "7dbfd728",
   "metadata": {},
   "outputs": [
    {
     "name": "stdout",
     "output_type": "stream",
     "text": [
      "A\n",
      "B\n",
      "F\n",
      "A\n"
     ]
    }
   ],
   "source": [
    "texto = \"ABCDEF\"\n",
    "print(texto[0])   #caractere de indice 0 - A\n",
    "print(texto[1])   #caractere de indice 1 - B\n",
    "print(texto[5])   #caractere de indice 5 - F \n",
    "\n",
    "primeira_letra = texto[0]\n",
    "print(primeira_letra)\n"
   ]
  },
  {
   "cell_type": "markdown",
   "id": "a95c4ff9",
   "metadata": {},
   "source": [
    "### Fora do index"
   ]
  },
  {
   "cell_type": "code",
   "execution_count": 19,
   "id": "276b7d85",
   "metadata": {},
   "outputs": [
    {
     "ename": "IndexError",
     "evalue": "string index out of range",
     "output_type": "error",
     "traceback": [
      "\u001b[31m---------------------------------------------------------------------------\u001b[39m",
      "\u001b[31mIndexError\u001b[39m                                Traceback (most recent call last)",
      "\u001b[36mCell\u001b[39m\u001b[36m \u001b[39m\u001b[32mIn[19]\u001b[39m\u001b[32m, line 1\u001b[39m\n\u001b[32m----> \u001b[39m\u001b[32m1\u001b[39m \u001b[38;5;28mprint\u001b[39m(\u001b[43mtexto\u001b[49m\u001b[43m[\u001b[49m\u001b[32;43m6\u001b[39;49m\u001b[43m]\u001b[49m)\n",
      "\u001b[31mIndexError\u001b[39m: string index out of range"
     ]
    }
   ],
   "source": [
    "print(texto[6])"
   ]
  },
  {
   "cell_type": "markdown",
   "id": "dfce6ef7",
   "metadata": {},
   "source": [
    "## Operações com Strings\n",
    "\n",
    "### Concatenação"
   ]
  },
  {
   "cell_type": "code",
   "execution_count": null,
   "id": "54b35f46",
   "metadata": {},
   "outputs": [
    {
     "name": "stdout",
     "output_type": "stream",
     "text": [
      "Olá, Mundo!\n"
     ]
    }
   ],
   "source": [
    "texto1 = \"Olá, \"\n",
    "texto2 = \"Mundo!\"\n",
    "\n",
    "mensagem = texto1 + texto2\n",
    "\n",
    "print(mensagem)"
   ]
  },
  {
   "cell_type": "code",
   "execution_count": null,
   "id": "dec9aca3",
   "metadata": {},
   "outputs": [
    {
     "name": "stdout",
     "output_type": "stream",
     "text": [
      "ABCD\n",
      "ABCDDDD\n",
      "XX\n",
      "X----------X\n"
     ]
    }
   ],
   "source": [
    "s = \"ABC\"\n",
    "print(s + \"D\")\n",
    "print(s + \"D\" * 4)\n",
    "print(\"X\" + \"X\")\n",
    "print (\"X\" + 10*\"-\" + \"X\")"
   ]
  },
  {
   "cell_type": "markdown",
   "id": "980affb7",
   "metadata": {},
   "source": [
    "## Composição"
   ]
  },
  {
   "cell_type": "code",
   "execution_count": null,
   "id": "dd01c49a",
   "metadata": {},
   "outputs": [
    {
     "name": "stdout",
     "output_type": "stream",
     "text": [
      "João tem 20 anos\n",
      "O preco é 100.300000\n"
     ]
    }
   ],
   "source": [
    "idade = int(input(\"Informe a idade: \"))\n",
    "print(\"João tem %d anos\" % idade)\n",
    "\n",
    "preco = float(input(\"Informe o preco: \"))\n",
    "print(\"O preco é %f\" % preco)"
   ]
  },
  {
   "cell_type": "code",
   "execution_count": null,
   "id": "18dbd7db",
   "metadata": {},
   "outputs": [
    {
     "name": "stdout",
     "output_type": "stream",
     "text": [
      "João tem 30 anos e seu salário é de R$2550.49.\n"
     ]
    }
   ],
   "source": [
    "nome = \"João\"\n",
    "idade = 30\n",
    "salario = 2550.49\n",
    "print(\"%s tem %d anos e seu salário é de R$%.2f.\" % (nome, idade, salario))\n"
   ]
  },
  {
   "cell_type": "markdown",
   "id": "bc5132dd",
   "metadata": {},
   "source": [
    "## Fatiamento"
   ]
  },
  {
   "cell_type": "code",
   "execution_count": null,
   "id": "3f7c3071",
   "metadata": {},
   "outputs": [
    {
     "name": "stdout",
     "output_type": "stream",
     "text": [
      "AB\n"
     ]
    }
   ],
   "source": [
    "texto = \"ABCDEF\"\n",
    "print(texto[0:2])"
   ]
  },
  {
   "cell_type": "code",
   "execution_count": null,
   "id": "55bba739",
   "metadata": {},
   "outputs": [
    {
     "name": "stdout",
     "output_type": "stream",
     "text": [
      "B\n",
      "CD\n",
      "ABC\n",
      "BCDEFGHI\n"
     ]
    }
   ],
   "source": [
    "texto = \"ABCDEFGHI\"\n",
    "\n",
    "print(texto[1:2]) #B\n",
    "print(texto[2:4])#CD\n",
    "print(texto[:3])\n",
    "print(texto[1:])"
   ]
  },
  {
   "cell_type": "code",
   "execution_count": null,
   "id": "3f21caf7",
   "metadata": {},
   "outputs": [
    {
     "name": "stdout",
     "output_type": "stream",
     "text": [
      "ABCDEFG\n",
      "I\n",
      "EFG\n",
      "H\n",
      "A\n"
     ]
    }
   ],
   "source": [
    "texto = \"ABCDEFGHI\"\n",
    "\n",
    "print(texto[0:-2]) #ABCDEFG\n",
    "print(texto[-1:])\n",
    "print(texto[-5:7])\n",
    "print(texto[-2:-1])\n",
    "print(texto[-9])\n",
    "\n"
   ]
  },
  {
   "cell_type": "markdown",
   "id": "eb068d2e",
   "metadata": {},
   "source": [
    "# Sequencia e tempo"
   ]
  },
  {
   "cell_type": "code",
   "execution_count": 20,
   "id": "bb2b8cca",
   "metadata": {},
   "outputs": [
    {
     "name": "stdout",
     "output_type": "stream",
     "text": [
      "100\n",
      "300\n",
      "600\n"
     ]
    }
   ],
   "source": [
    "divida = 0                      #1\n",
    "compra = 100                    #2  \n",
    "divida = divida + compra        #3\n",
    "print(divida)                   \n",
    "compra = 200                    #4\n",
    "divida = divida + compra        #5\n",
    "print(divida)\n",
    "compra = 300                    #6\n",
    "divida = divida + compra        #7\n",
    "compra = 0                      #8\n",
    "print(divida)"
   ]
  },
  {
   "cell_type": "code",
   "execution_count": 27,
   "id": "4bb6ceae",
   "metadata": {},
   "outputs": [
    {
     "name": "stdout",
     "output_type": "stream",
     "text": [
      "True\n",
      "Palavra1 deve vir primeiro que palavra2? True\n"
     ]
    }
   ],
   "source": [
    "# operador in e > ou <\n",
    "\n",
    "string1 = \"Olá, mundo!\"\n",
    "string2 = \"mundo\"\n",
    "\n",
    "teste = string2 in string1\n",
    "\n",
    "print(teste)\n",
    "\n",
    "palavra1 = \"Abacaxi\"\n",
    "palavra2 = \"Banana\"\n",
    "\n",
    "ordem = palavra1 < palavra2\n",
    "\n",
    "print(f\"Palavra1 deve vir primeiro que palavra2? {ordem}\")"
   ]
  },
  {
   "cell_type": "markdown",
   "id": "a2d24986",
   "metadata": {},
   "source": [
    "### "
   ]
  }
 ],
 "metadata": {
  "kernelspec": {
   "display_name": "Python 3",
   "language": "python",
   "name": "python3"
  },
  "language_info": {
   "codemirror_mode": {
    "name": "ipython",
    "version": 3
   },
   "file_extension": ".py",
   "mimetype": "text/x-python",
   "name": "python",
   "nbconvert_exporter": "python",
   "pygments_lexer": "ipython3",
   "version": "3.13.5"
  }
 },
 "nbformat": 4,
 "nbformat_minor": 5
}
