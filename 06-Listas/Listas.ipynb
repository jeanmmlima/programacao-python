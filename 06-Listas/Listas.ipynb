{
 "cells": [
  {
   "cell_type": "markdown",
   "id": "187c3617",
   "metadata": {},
   "source": [
    "# Listas"
   ]
  },
  {
   "cell_type": "code",
   "execution_count": 5,
   "id": "2d537897",
   "metadata": {},
   "outputs": [
    {
     "name": "stdout",
     "output_type": "stream",
     "text": [
      "[15, 8, 9]\n",
      "15\n",
      "8\n",
      "9\n"
     ]
    }
   ],
   "source": [
    "# Uma lista vazia\n",
    "L=[]\n",
    "\n",
    "# Uma lista com três elementos\n",
    "Z=[ 15, 8, 9 ]\n",
    "print(Z)\n",
    "print(Z[0])\n",
    "print(Z[1])\n",
    "print(Z[2])"
   ]
  },
  {
   "cell_type": "code",
   "execution_count": null,
   "id": "9724198b",
   "metadata": {},
   "outputs": [
    {
     "name": "stdout",
     "output_type": "stream",
     "text": [
      "15\n",
      "7\n",
      "[7, 8, 9]\n"
     ]
    }
   ],
   "source": [
    "Z=[ 15, 8, 9 ]\n",
    "print(Z[0])\n",
    "\n",
    "#modificando o valor do elemento de indice 0\n",
    "Z[0] = 7\n",
    "print(Z[0])\n",
    "print(Z)\n"
   ]
  },
  {
   "cell_type": "code",
   "execution_count": null,
   "id": "da15fbf4",
   "metadata": {},
   "outputs": [
    {
     "name": "stdout",
     "output_type": "stream",
     "text": [
      "Média:  7.00\n"
     ]
    }
   ],
   "source": [
    "notas=[6,7,5,8,9] #1\n",
    "soma=0\n",
    "x=0\n",
    "while x<5: #2\n",
    "    soma += notas[x] #3\n",
    "    x+=1  #4\n",
    "print(\"Média: %5.2f\" % (soma/x))"
   ]
  },
  {
   "cell_type": "markdown",
   "id": "ff26a847",
   "metadata": {},
   "source": [
    "## Copia de Listas"
   ]
  },
  {
   "cell_type": "code",
   "execution_count": 8,
   "id": "fdf09a79",
   "metadata": {},
   "outputs": [
    {
     "name": "stdout",
     "output_type": "stream",
     "text": [
      "[1, 2, 3, 4, 5]\n",
      "[1, 2, 3, 4, 5]\n",
      "[6, 2, 3, 4, 5]\n",
      "[6, 2, 3, 4, 5]\n"
     ]
    }
   ],
   "source": [
    "L=[1,2,3,4,5]\n",
    "V=L\n",
    "print(V)\n",
    "print(L)\n",
    "V[0]=6\n",
    "print(V)\n",
    "print(L)"
   ]
  },
  {
   "cell_type": "code",
   "execution_count": 9,
   "id": "9c5b0496",
   "metadata": {},
   "outputs": [
    {
     "name": "stdout",
     "output_type": "stream",
     "text": [
      "[1, 2, 3, 4, 5]\n",
      "[1, 2, 3, 4, 5]\n",
      "[6, 2, 3, 4, 5]\n",
      "[1, 2, 3, 4, 5]\n"
     ]
    }
   ],
   "source": [
    "L=[1,2,3,4,5]\n",
    "V=L[:]\n",
    "print(V)\n",
    "print(L)\n",
    "V[0]=6\n",
    "print(V)\n",
    "print(L)"
   ]
  },
  {
   "cell_type": "code",
   "execution_count": null,
   "id": "4414bd33",
   "metadata": {},
   "outputs": [],
   "source": [
    "L=[1,2,3,4,5]"
   ]
  },
  {
   "cell_type": "code",
   "execution_count": 7,
   "id": "620d37ad",
   "metadata": {},
   "outputs": [
    {
     "data": {
      "text/plain": [
       "5"
      ]
     },
     "execution_count": 7,
     "metadata": {},
     "output_type": "execute_result"
    }
   ],
   "source": [
    "L[:5]\n",
    "L[:-1]\n",
    "L[1:3]\n",
    "L[1:4]\n",
    "L[3:]\n",
    "L[:3]\n",
    "L[-1]"
   ]
  },
  {
   "cell_type": "markdown",
   "id": "78da87fd",
   "metadata": {},
   "source": [
    "## Tamanho de Listas"
   ]
  },
  {
   "cell_type": "code",
   "execution_count": 9,
   "id": "836fd404",
   "metadata": {},
   "outputs": [
    {
     "name": "stdout",
     "output_type": "stream",
     "text": [
      "3\n",
      "0\n"
     ]
    }
   ],
   "source": [
    "L=[12,9,5]\n",
    "print(len(L))\n",
    "V=[]\n",
    "print(len(V))"
   ]
  },
  {
   "cell_type": "code",
   "execution_count": 10,
   "id": "7c2fab82",
   "metadata": {},
   "outputs": [
    {
     "name": "stdout",
     "output_type": "stream",
     "text": [
      "1\n",
      "2\n",
      "3\n"
     ]
    }
   ],
   "source": [
    "L=[1,2,3]\n",
    "x=0\n",
    "while x < len(L):\n",
    "    print(L[x])\n",
    "    x+=1"
   ]
  },
  {
   "cell_type": "markdown",
   "id": "eb3a8703",
   "metadata": {},
   "source": [
    "## Adicionando Elementos a Lista\n"
   ]
  },
  {
   "cell_type": "code",
   "execution_count": 11,
   "id": "d23c4167",
   "metadata": {},
   "outputs": [
    {
     "name": "stdout",
     "output_type": "stream",
     "text": [
      "['a']\n",
      "['a', 'b']\n",
      "['a', 'b', 'c']\n"
     ]
    }
   ],
   "source": [
    "L=[]\n",
    "L.append(\"a\")\n",
    "print(L)\n",
    "L.append(\"b\")\n",
    "print(L)\n",
    "L.append(\"c\")\n",
    "print(L)"
   ]
  },
  {
   "cell_type": "code",
   "execution_count": 12,
   "id": "ef15f4f0",
   "metadata": {},
   "outputs": [
    {
     "name": "stdout",
     "output_type": "stream",
     "text": [
      "1\n",
      "2\n",
      "3\n",
      "4\n",
      "5\n",
      "10\n"
     ]
    }
   ],
   "source": [
    "L=[]\n",
    "while True:\n",
    "    n=int(input(\"Digite um número (0 sai):\"))\n",
    "    if n == 0:\n",
    "        break\n",
    "    L.append(n)\n",
    "x=0\n",
    "while x < len(L):\n",
    "    print(L[x])\n",
    "    x=x+1"
   ]
  },
  {
   "cell_type": "code",
   "execution_count": 13,
   "id": "6a9cac28",
   "metadata": {},
   "outputs": [
    {
     "name": "stdout",
     "output_type": "stream",
     "text": [
      "['a', 'b']\n",
      "['a', 'b', 'c']\n",
      "['a', 'b', 'c', ['d', 'e']]\n",
      "['a', 'b', 'c', ['d', 'e'], 'f', 'g', 'h']\n"
     ]
    }
   ],
   "source": [
    "L=[\"a\"]\n",
    "L.append(\"b\")\n",
    "print(L)\n",
    "L.extend([\"c\"])\n",
    "print(L)\n",
    "L.append([\"d\",\"e\"])\n",
    "print(L)\n",
    "L.extend([\"f\",\"g\",\"h\"])\n",
    "print(L)"
   ]
  },
  {
   "cell_type": "markdown",
   "id": "494d26f0",
   "metadata": {},
   "source": [
    "## Removendo elementos da lista"
   ]
  },
  {
   "cell_type": "code",
   "execution_count": 14,
   "id": "3b623afe",
   "metadata": {},
   "outputs": [
    {
     "name": "stdout",
     "output_type": "stream",
     "text": [
      "['a', 'c']\n",
      "['c']\n"
     ]
    }
   ],
   "source": [
    "L=[\"a\",\"b\",\"c\"]\n",
    "del L[1]\n",
    "print(L)\n",
    "del L[0]\n",
    "print(L)"
   ]
  },
  {
   "cell_type": "markdown",
   "id": "9cce3eb5",
   "metadata": {},
   "source": [
    "## USANDO FOR"
   ]
  },
  {
   "cell_type": "code",
   "execution_count": 15,
   "id": "761cc048",
   "metadata": {},
   "outputs": [
    {
     "name": "stdout",
     "output_type": "stream",
     "text": [
      "8\n",
      "9\n",
      "15\n"
     ]
    }
   ],
   "source": [
    "L=[8,9,15]\n",
    "for elemento in L:\n",
    "    print(elemento)"
   ]
  },
  {
   "cell_type": "markdown",
   "id": "e5f09e9f",
   "metadata": {},
   "source": [
    "## RANGE"
   ]
  },
  {
   "cell_type": "code",
   "execution_count": 1,
   "id": "8a183ebc",
   "metadata": {},
   "outputs": [
    {
     "name": "stdout",
     "output_type": "stream",
     "text": [
      "0\n",
      "1\n",
      "2\n",
      "3\n",
      "4\n",
      "5\n",
      "6\n",
      "7\n",
      "8\n",
      "9\n"
     ]
    }
   ],
   "source": [
    "for v in range(10):\n",
    "    print(v)"
   ]
  },
  {
   "cell_type": "markdown",
   "id": "30e72785",
   "metadata": {},
   "source": []
  },
  {
   "cell_type": "code",
   "execution_count": 1,
   "id": "2d42fc40",
   "metadata": {},
   "outputs": [
    {
     "name": "stdout",
     "output_type": "stream",
     "text": [
      "5\n",
      "6\n",
      "7\n"
     ]
    }
   ],
   "source": [
    "for v in range(5, 8):\n",
    "    print(v)"
   ]
  }
 ],
 "metadata": {
  "kernelspec": {
   "display_name": "Python 3",
   "language": "python",
   "name": "python3"
  },
  "language_info": {
   "codemirror_mode": {
    "name": "ipython",
    "version": 3
   },
   "file_extension": ".py",
   "mimetype": "text/x-python",
   "name": "python",
   "nbconvert_exporter": "python",
   "pygments_lexer": "ipython3",
   "version": "3.9.6"
  }
 },
 "nbformat": 4,
 "nbformat_minor": 5
}
