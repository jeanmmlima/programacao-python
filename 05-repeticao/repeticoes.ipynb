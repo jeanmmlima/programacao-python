{
 "cells": [
  {
   "cell_type": "markdown",
   "id": "fa3bb0ec",
   "metadata": {},
   "source": [
    "# Estruturas de Repetição"
   ]
  },
  {
   "cell_type": "code",
   "execution_count": 1,
   "id": "e27e9ad4",
   "metadata": {},
   "outputs": [
    {
     "name": "stdout",
     "output_type": "stream",
     "text": [
      "1\n",
      "2\n",
      "3\n"
     ]
    }
   ],
   "source": [
    "print(1)\n",
    "print(2)\n",
    "print(3)"
   ]
  },
  {
   "cell_type": "code",
   "execution_count": 2,
   "id": "a113a380",
   "metadata": {},
   "outputs": [
    {
     "name": "stdout",
     "output_type": "stream",
     "text": [
      "1\n",
      "2\n",
      "3\n"
     ]
    }
   ],
   "source": [
    "x=1\n",
    "print(x)\n",
    "x=2\n",
    "print(x)\n",
    "x=3\n",
    "print(x)"
   ]
  },
  {
   "cell_type": "code",
   "execution_count": 3,
   "id": "5da60c77",
   "metadata": {},
   "outputs": [
    {
     "name": "stdout",
     "output_type": "stream",
     "text": [
      "1\n",
      "2\n",
      "3\n"
     ]
    }
   ],
   "source": [
    "x=1\n",
    "print(x)\n",
    "x=x+1\n",
    "print(x)\n",
    "x=x+1\n",
    "print(x)"
   ]
  },
  {
   "cell_type": "markdown",
   "id": "d6a17fd6",
   "metadata": {},
   "source": [
    "## While"
   ]
  },
  {
   "cell_type": "code",
   "execution_count": 4,
   "id": "ee599ddc",
   "metadata": {},
   "outputs": [
    {
     "name": "stdout",
     "output_type": "stream",
     "text": [
      "1\n",
      "2\n",
      "3\n"
     ]
    }
   ],
   "source": [
    "x=1 \n",
    "while x <= 3: \n",
    "    print(x) \n",
    "    x = x + 1 "
   ]
  },
  {
   "cell_type": "code",
   "execution_count": null,
   "id": "6559419f",
   "metadata": {},
   "outputs": [],
   "source": [
    "fim=int(input(\"Digite o último número a imprimir:\"))\n",
    "x=1 \n",
    "while x <= fim: \n",
    "    print(x) \n",
    "    x = x + 1 "
   ]
  },
  {
   "cell_type": "code",
   "execution_count": null,
   "id": "615d58bd",
   "metadata": {},
   "outputs": [],
   "source": [
    "fim=int(input(\"Digite o último número a imprimir:\"))\n",
    "x = 0 \n",
    "while x <= fim:\n",
    "    if x % 2 == 0:\n",
    "        print(x) \n",
    "    x = x + 1 "
   ]
  },
  {
   "cell_type": "code",
   "execution_count": 7,
   "id": "1c7cbab9",
   "metadata": {},
   "outputs": [
    {
     "name": "stdout",
     "output_type": "stream",
     "text": [
      "0\n",
      "2\n",
      "4\n",
      "6\n",
      "8\n",
      "10\n",
      "12\n"
     ]
    }
   ],
   "source": [
    "fim=int(input(\"Digite o último número a imprimir:\"))\n",
    "x = 0\n",
    "while x <= fim:\n",
    "    print(x)\n",
    "    x = x + 2"
   ]
  },
  {
   "cell_type": "code",
   "execution_count": 9,
   "id": "cd9c3bb9",
   "metadata": {},
   "outputs": [
    {
     "name": "stdout",
     "output_type": "stream",
     "text": [
      "O aluno fez 3 ponto(s)\n"
     ]
    }
   ],
   "source": [
    "pontos = 0\n",
    "questão = 1\n",
    "while questão <= 3:\n",
    "    resposta = input(\"Resposta da questão %d: \" % questão)\n",
    "    if questão == 1 and resposta == \"b\":\n",
    "        pontos = pontos + 1\n",
    "    if questão == 2 and resposta == \"a\":\n",
    "        pontos = pontos + 1\n",
    "    if questão == 3 and resposta == \"d\":\n",
    "        pontos = pontos + 1\n",
    "    questão +=1\n",
    "\n",
    "print(\"O aluno fez %d ponto(s)\" % pontos)"
   ]
  },
  {
   "cell_type": "markdown",
   "id": "bd9b8765",
   "metadata": {},
   "source": [
    "## Acumuladores"
   ]
  },
  {
   "cell_type": "code",
   "execution_count": 1,
   "id": "d6bca0e5",
   "metadata": {},
   "outputs": [
    {
     "name": "stdout",
     "output_type": "stream",
     "text": [
      "Soma: 87\n"
     ]
    }
   ],
   "source": [
    "n = 1\n",
    "soma = 0\n",
    "while n <= 10:\n",
    "    x = int(input(\"Digite o %d número:\"%n))\n",
    "    soma = soma + x \n",
    "    n = n + 1   \n",
    "print(\"Soma: %d\"%soma)"
   ]
  },
  {
   "cell_type": "code",
   "execution_count": 4,
   "id": "ca56e486",
   "metadata": {},
   "outputs": [
    {
     "name": "stdout",
     "output_type": "stream",
     "text": [
      "Média:  4.80\n"
     ]
    }
   ],
   "source": [
    "x = 1\n",
    "soma = 0\n",
    "while x <= 5:\n",
    "    n = int(input(\"Digite o %d número:\"%x))\n",
    "    soma = soma + n \n",
    "    x = x + 1   \n",
    "print(\"Média: %5.2f\" % (soma/5))"
   ]
  },
  {
   "cell_type": "code",
   "execution_count": 5,
   "id": "70c8af3f",
   "metadata": {},
   "outputs": [
    {
     "name": "stdout",
     "output_type": "stream",
     "text": [
      "19\n"
     ]
    }
   ],
   "source": [
    "s=0\n",
    "while True: \n",
    "    v=int(input(\"Digite um número a somar ou 0 para sair:\"))\n",
    "    if v==0:\n",
    "        break \n",
    "    s = s+v \n",
    "print(s) "
   ]
  }
 ],
 "metadata": {
  "kernelspec": {
   "display_name": "Python 3",
   "language": "python",
   "name": "python3"
  },
  "language_info": {
   "codemirror_mode": {
    "name": "ipython",
    "version": 3
   },
   "file_extension": ".py",
   "mimetype": "text/x-python",
   "name": "python",
   "nbconvert_exporter": "python",
   "pygments_lexer": "ipython3",
   "version": "3.13.5"
  }
 },
 "nbformat": 4,
 "nbformat_minor": 5
}
