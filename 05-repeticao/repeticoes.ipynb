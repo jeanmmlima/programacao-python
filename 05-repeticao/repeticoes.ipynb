{
 "cells": [
  {
   "cell_type": "markdown",
   "id": "fa3bb0ec",
   "metadata": {},
   "source": [
    "# Estruturas de Repetição"
   ]
  },
  {
   "cell_type": "code",
   "execution_count": 1,
   "id": "e27e9ad4",
   "metadata": {},
   "outputs": [
    {
     "name": "stdout",
     "output_type": "stream",
     "text": [
      "1\n",
      "2\n",
      "3\n"
     ]
    }
   ],
   "source": [
    "print(1)\n",
    "print(2)\n",
    "print(3)"
   ]
  },
  {
   "cell_type": "code",
   "execution_count": 2,
   "id": "a113a380",
   "metadata": {},
   "outputs": [
    {
     "name": "stdout",
     "output_type": "stream",
     "text": [
      "1\n",
      "2\n",
      "3\n"
     ]
    }
   ],
   "source": [
    "x=1\n",
    "print(x)\n",
    "x=2\n",
    "print(x)\n",
    "x=3\n",
    "print(x)"
   ]
  },
  {
   "cell_type": "code",
   "execution_count": 3,
   "id": "5da60c77",
   "metadata": {},
   "outputs": [
    {
     "name": "stdout",
     "output_type": "stream",
     "text": [
      "1\n",
      "2\n",
      "3\n"
     ]
    }
   ],
   "source": [
    "x=1\n",
    "print(x)\n",
    "x=x+1\n",
    "print(x)\n",
    "x=x+1\n",
    "print(x)"
   ]
  },
  {
   "cell_type": "markdown",
   "id": "d6a17fd6",
   "metadata": {},
   "source": [
    "## While"
   ]
  },
  {
   "cell_type": "code",
   "execution_count": 4,
   "id": "ee599ddc",
   "metadata": {},
   "outputs": [
    {
     "name": "stdout",
     "output_type": "stream",
     "text": [
      "1\n",
      "2\n",
      "3\n"
     ]
    }
   ],
   "source": [
    "x=1 \n",
    "while x <= 3: \n",
    "    print(x) \n",
    "    x = x + 1 "
   ]
  },
  {
   "cell_type": "code",
   "execution_count": null,
   "id": "6559419f",
   "metadata": {},
   "outputs": [],
   "source": [
    "fim=int(input(\"Digite o último número a imprimir:\"))\n",
    "x=1 \n",
    "while x <= fim: \n",
    "    print(x) \n",
    "    x = x + 1 "
   ]
  },
  {
   "cell_type": "code",
   "execution_count": null,
   "id": "615d58bd",
   "metadata": {},
   "outputs": [],
   "source": [
    "fim=int(input(\"Digite o último número a imprimir:\"))\n",
    "x = 0 \n",
    "while x <= fim:\n",
    "    if x % 2 == 0:\n",
    "        print(x) \n",
    "    x = x + 1 "
   ]
  },
  {
   "cell_type": "code",
   "execution_count": 7,
   "id": "1c7cbab9",
   "metadata": {},
   "outputs": [
    {
     "name": "stdout",
     "output_type": "stream",
     "text": [
      "0\n",
      "2\n",
      "4\n",
      "6\n",
      "8\n",
      "10\n",
      "12\n"
     ]
    }
   ],
   "source": [
    "fim=int(input(\"Digite o último número a imprimir:\"))\n",
    "x = 0\n",
    "while x <= fim:\n",
    "    print(x)\n",
    "    x = x + 2"
   ]
  },
  {
   "cell_type": "code",
   "execution_count": 9,
   "id": "cd9c3bb9",
   "metadata": {},
   "outputs": [
    {
     "name": "stdout",
     "output_type": "stream",
     "text": [
      "O aluno fez 3 ponto(s)\n"
     ]
    }
   ],
   "source": [
    "pontos = 0\n",
    "questão = 1\n",
    "while questão <= 3:\n",
    "    resposta = input(\"Resposta da questão %d: \" % questão)\n",
    "    if questão == 1 and resposta == \"b\":\n",
    "        pontos = pontos + 1\n",
    "    if questão == 2 and resposta == \"a\":\n",
    "        pontos = pontos + 1\n",
    "    if questão == 3 and resposta == \"d\":\n",
    "        pontos = pontos + 1\n",
    "    questão +=1\n",
    "\n",
    "print(\"O aluno fez %d ponto(s)\" % pontos)"
   ]
  },
  {
   "cell_type": "markdown",
   "id": "bd9b8765",
   "metadata": {},
   "source": [
    "## Acumuladores"
   ]
  },
  {
   "cell_type": "code",
   "execution_count": 1,
   "id": "d6bca0e5",
   "metadata": {},
   "outputs": [
    {
     "name": "stdout",
     "output_type": "stream",
     "text": [
      "Soma: 87\n"
     ]
    }
   ],
   "source": [
    "n = 1\n",
    "soma = 0\n",
    "while n <= 10:\n",
    "    x = int(input(\"Digite o %d número:\"%n))\n",
    "    soma = soma + x \n",
    "    n = n + 1   \n",
    "print(\"Soma: %d\"%soma)"
   ]
  },
  {
   "cell_type": "code",
   "execution_count": 4,
   "id": "ca56e486",
   "metadata": {},
   "outputs": [
    {
     "name": "stdout",
     "output_type": "stream",
     "text": [
      "Média:  4.80\n"
     ]
    }
   ],
   "source": [
    "x = 1\n",
    "soma = 0\n",
    "while x <= 5:\n",
    "    n = int(input(\"Digite o %d número:\"%x))\n",
    "    soma = soma + n \n",
    "    x = x + 1   \n",
    "print(\"Média: %5.2f\" % (soma/5))"
   ]
  },
  {
   "cell_type": "code",
   "execution_count": 5,
   "id": "70c8af3f",
   "metadata": {},
   "outputs": [
    {
     "name": "stdout",
     "output_type": "stream",
     "text": [
      "19\n"
     ]
    }
   ],
   "source": [
    "s=0\n",
    "while True: \n",
    "    v=int(input(\"Digite um número a somar ou 0 para sair:\"))\n",
    "    if v==0:\n",
    "        break \n",
    "    s = s+v \n",
    "print(s) "
   ]
  },
  {
   "cell_type": "markdown",
   "id": "f80ebbd6",
   "metadata": {},
   "source": [
    " # Repetições Aninhadas"
   ]
  },
  {
   "cell_type": "code",
   "execution_count": null,
   "id": "ce3853f4",
   "metadata": {},
   "outputs": [
    {
     "name": "stdout",
     "output_type": "stream",
     "text": [
      "1 x 1 = 1\n",
      "1 x 2 = 2\n",
      "1 x 3 = 3\n",
      "1 x 4 = 4\n",
      "1 x 5 = 5\n",
      "1 x 6 = 6\n",
      "1 x 7 = 7\n",
      "1 x 8 = 8\n",
      "1 x 9 = 9\n",
      "1 x 10 = 10\n",
      "2 x 1 = 2\n",
      "2 x 2 = 4\n",
      "2 x 3 = 6\n",
      "2 x 4 = 8\n",
      "2 x 5 = 10\n",
      "2 x 6 = 12\n",
      "2 x 7 = 14\n",
      "2 x 8 = 16\n",
      "2 x 9 = 18\n",
      "2 x 10 = 20\n",
      "3 x 1 = 3\n",
      "3 x 2 = 6\n",
      "3 x 3 = 9\n",
      "3 x 4 = 12\n",
      "3 x 5 = 15\n",
      "3 x 6 = 18\n",
      "3 x 7 = 21\n",
      "3 x 8 = 24\n",
      "3 x 9 = 27\n",
      "3 x 10 = 30\n",
      "4 x 1 = 4\n",
      "4 x 2 = 8\n",
      "4 x 3 = 12\n",
      "4 x 4 = 16\n",
      "4 x 5 = 20\n",
      "4 x 6 = 24\n",
      "4 x 7 = 28\n",
      "4 x 8 = 32\n",
      "4 x 9 = 36\n",
      "4 x 10 = 40\n",
      "5 x 1 = 5\n",
      "5 x 2 = 10\n",
      "5 x 3 = 15\n",
      "5 x 4 = 20\n",
      "5 x 5 = 25\n",
      "5 x 6 = 30\n",
      "5 x 7 = 35\n",
      "5 x 8 = 40\n",
      "5 x 9 = 45\n",
      "5 x 10 = 50\n",
      "6 x 1 = 6\n",
      "6 x 2 = 12\n",
      "6 x 3 = 18\n",
      "6 x 4 = 24\n",
      "6 x 5 = 30\n",
      "6 x 6 = 36\n",
      "6 x 7 = 42\n",
      "6 x 8 = 48\n",
      "6 x 9 = 54\n",
      "6 x 10 = 60\n",
      "7 x 1 = 7\n",
      "7 x 2 = 14\n",
      "7 x 3 = 21\n",
      "7 x 4 = 28\n",
      "7 x 5 = 35\n",
      "7 x 6 = 42\n",
      "7 x 7 = 49\n",
      "7 x 8 = 56\n",
      "7 x 9 = 63\n",
      "7 x 10 = 70\n",
      "8 x 1 = 8\n",
      "8 x 2 = 16\n",
      "8 x 3 = 24\n",
      "8 x 4 = 32\n",
      "8 x 5 = 40\n",
      "8 x 6 = 48\n",
      "8 x 7 = 56\n",
      "8 x 8 = 64\n",
      "8 x 9 = 72\n",
      "8 x 10 = 80\n",
      "9 x 1 = 9\n",
      "9 x 2 = 18\n",
      "9 x 3 = 27\n",
      "9 x 4 = 36\n",
      "9 x 5 = 45\n",
      "9 x 6 = 54\n",
      "9 x 7 = 63\n",
      "9 x 8 = 72\n",
      "9 x 9 = 81\n",
      "9 x 10 = 90\n",
      "10 x 1 = 10\n",
      "10 x 2 = 20\n",
      "10 x 3 = 30\n",
      "10 x 4 = 40\n",
      "10 x 5 = 50\n",
      "10 x 6 = 60\n",
      "10 x 7 = 70\n",
      "10 x 8 = 80\n",
      "10 x 9 = 90\n",
      "10 x 10 = 100\n"
     ]
    }
   ],
   "source": [
    "tabuada=1\n",
    "while tabuada <= 10: #1\n",
    "    numero = 1 \n",
    "    while numero <= 10: \n",
    "        print(\"%d x %d = %d\" % (tabuada, numero, tabuada * numero))\n",
    "        numero+=1 \n",
    "    tabuada+=1 "
   ]
  }
 ],
 "metadata": {
  "kernelspec": {
   "display_name": "Python 3",
   "language": "python",
   "name": "python3"
  },
  "language_info": {
   "codemirror_mode": {
    "name": "ipython",
    "version": 3
   },
   "file_extension": ".py",
   "mimetype": "text/x-python",
   "name": "python",
   "nbconvert_exporter": "python",
   "pygments_lexer": "ipython3",
   "version": "3.13.5"
  }
 },
 "nbformat": 4,
 "nbformat_minor": 5
}
