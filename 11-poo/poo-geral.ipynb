{
 "cells": [
  {
   "cell_type": "markdown",
   "id": "11c1be67",
   "metadata": {},
   "source": [
    "# POO"
   ]
  },
  {
   "cell_type": "code",
   "execution_count": 12,
   "id": "49baae88",
   "metadata": {},
   "outputs": [],
   "source": [
    "# Definição de uma classe\n",
    "class Pessoa:\n",
    "    def __init__(self, nome, idade): # __init__ construtor de classe\n",
    "        self.nome = nome     # atributo\n",
    "        self.idade = idade    # atributo\n",
    "    \n",
    "    def apresentar(self):     # método\n",
    "        print(f\"Olá, meu nome é {self.nome} e tenho {self.idade} anos.\")"
   ]
  },
  {
   "cell_type": "code",
   "execution_count": 9,
   "id": "74ad7c20",
   "metadata": {},
   "outputs": [
    {
     "name": "stdout",
     "output_type": "stream",
     "text": [
      "Olá, meu nome é Joao e tenho 30 anos.\n",
      "Olá, meu nome é Joao e tenho 25 anos.\n",
      "Olá, meu nome é José e tenho 55 anos.\n"
     ]
    }
   ],
   "source": [
    "# instanciando um objeto da classe Pessoa\n",
    "p1 = Pessoa(\"Joao\", 30)\n",
    "#invocando método da classe pessoa\n",
    "p1.apresentar()\n",
    "#outro objeto da classe Pessoa\n",
    "p2 = Pessoa(\"Maria\", 25)\n",
    "p2.apresentar()\n",
    "#alterando atributos\n",
    "p1.nome = \"José\"\n",
    "p1.idade = 55\n",
    "p1.apresentar()"
   ]
  },
  {
   "cell_type": "code",
   "execution_count": null,
   "id": "ffec709c",
   "metadata": {},
   "outputs": [],
   "source": []
  }
 ],
 "metadata": {
  "kernelspec": {
   "display_name": "Python 3",
   "language": "python",
   "name": "python3"
  },
  "language_info": {
   "codemirror_mode": {
    "name": "ipython",
    "version": 3
   },
   "file_extension": ".py",
   "mimetype": "text/x-python",
   "name": "python",
   "nbconvert_exporter": "python",
   "pygments_lexer": "ipython3",
   "version": "3.9.6"
  }
 },
 "nbformat": 4,
 "nbformat_minor": 5
}
