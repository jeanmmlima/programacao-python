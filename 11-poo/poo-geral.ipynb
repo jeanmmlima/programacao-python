{
 "cells": [
  {
   "cell_type": "markdown",
   "id": "11c1be67",
   "metadata": {},
   "source": [
    "# POO"
   ]
  },
  {
   "cell_type": "code",
   "execution_count": 12,
   "id": "49baae88",
   "metadata": {},
   "outputs": [],
   "source": [
    "# Definição de uma classe\n",
    "class Pessoa:\n",
    "    def __init__(self, nome, idade): # __init__ construtor de classe\n",
    "        self.nome = nome     # atributo\n",
    "        self.idade = idade    # atributo\n",
    "    \n",
    "    def apresentar(self):     # método\n",
    "        print(f\"Olá, meu nome é {self.nome} e tenho {self.idade} anos.\")"
   ]
  },
  {
   "cell_type": "code",
   "execution_count": 9,
   "id": "74ad7c20",
   "metadata": {},
   "outputs": [
    {
     "name": "stdout",
     "output_type": "stream",
     "text": [
      "Olá, meu nome é Joao e tenho 30 anos.\n",
      "Olá, meu nome é Joao e tenho 25 anos.\n",
      "Olá, meu nome é José e tenho 55 anos.\n"
     ]
    }
   ],
   "source": [
    "# instanciando um objeto da classe Pessoa\n",
    "p1 = Pessoa(\"Joao\", 30)\n",
    "#invocando método da classe pessoa\n",
    "p1.apresentar()\n",
    "#outro objeto da classe Pessoa\n",
    "p2 = Pessoa(\"Maria\", 25)\n",
    "p2.apresentar()\n",
    "#alterando atributos\n",
    "p1.nome = \"José\"\n",
    "p1.idade = 55\n",
    "p1.apresentar()"
   ]
  },
  {
   "cell_type": "markdown",
   "id": "29c0cb04",
   "metadata": {},
   "source": [
    "# HERANÇA e POLOMORFISMO"
   ]
  },
  {
   "cell_type": "code",
   "execution_count": 1,
   "id": "2602d29b",
   "metadata": {},
   "outputs": [
    {
     "name": "stdout",
     "output_type": "stream",
     "text": [
      "Rex diz: Au Au!\n",
      "Mimi diz: Miau!\n"
     ]
    }
   ],
   "source": [
    "# Classe mãe\n",
    "class Animal:\n",
    "    def __init__(self, nome):\n",
    "        self.nome = nome\n",
    "    \n",
    "    def falar(self):\n",
    "        return \"Som genérico\"\n",
    "\n",
    "# Classes filhas\n",
    "class Cachorro(Animal):\n",
    "    def falar(self):\n",
    "        return \"Au Au!\"\n",
    "\n",
    "class Gato(Animal):\n",
    "    def falar(self):\n",
    "        return \"Miau!\"\n",
    "\n",
    "# Testando\n",
    "animais = [Cachorro(\"Rex\"), Gato(\"Mimi\")]\n",
    "\n",
    "for a in animais:\n",
    "    print(f\"{a.nome} diz: {a.falar()}\")"
   ]
  },
  {
   "cell_type": "markdown",
   "id": "1e598970",
   "metadata": {},
   "source": [
    "# Classes abstratas e métodos abstratos"
   ]
  },
  {
   "cell_type": "code",
   "execution_count": 2,
   "id": "ffec709c",
   "metadata": {},
   "outputs": [],
   "source": [
    "from abc import ABC, abstractmethod\n",
    "\n",
    "class Forma(ABC):\n",
    "    @abstractmethod\n",
    "    def area(self):\n",
    "        pass\n",
    "\n",
    "class Quadrado(Forma):\n",
    "    def __init__(self, lado):\n",
    "        self.lado = lado\n",
    "    def area(self):\n",
    "        return self.lado ** 2\n",
    "\n",
    "class Circulo(Forma):\n",
    "    def __init__(self, raio):\n",
    "        self.raio = raio\n",
    "    def area(self):\n",
    "        return 3.14 * (self.raio ** 2)\n",
    "    \n",
    "class Triangulo(Forma):\n",
    "    def __init__(self,cateto_a, cateto_b):\n",
    "        self.cateto_a = cateto_a\n",
    "        self.cateto_b = cateto_b\n",
    "    def area(self):\n",
    "        return (self.cateto_a * self.cateto_b)/2\n",
    "        \n"
   ]
  },
  {
   "cell_type": "code",
   "execution_count": 3,
   "id": "d5ac96ee",
   "metadata": {},
   "outputs": [
    {
     "name": "stdout",
     "output_type": "stream",
     "text": [
      "Área: 16\n",
      "Área: 28.26\n",
      "Área: 7.5\n"
     ]
    }
   ],
   "source": [
    "\n",
    "formas = [Quadrado(4), Circulo(3), Triangulo(3,5)]\n",
    "for f in formas:\n",
    "    print(\"Área:\", f.area())"
   ]
  },
  {
   "cell_type": "markdown",
   "id": "cbfd00c4",
   "metadata": {},
   "source": [
    "## Property"
   ]
  },
  {
   "cell_type": "code",
   "execution_count": 4,
   "id": "d727aa7b",
   "metadata": {},
   "outputs": [
    {
     "name": "stdout",
     "output_type": "stream",
     "text": [
      "2000\n",
      "Preço inválido\n",
      "2500\n"
     ]
    }
   ],
   "source": [
    "class Produto:\n",
    "    def __init__(self, nome, preco):\n",
    "        self.nome = nome\n",
    "        self._preco = preco\n",
    "    \n",
    "    @property\n",
    "    def preco(self):\n",
    "        return self._preco\n",
    "    \n",
    "    @preco.setter\n",
    "    def preco(self, valor):\n",
    "        if valor > 0:\n",
    "            self._preco = valor\n",
    "        else:\n",
    "            print(\"Preço inválido\")\n",
    "\n",
    "p = Produto(\"Notebook\", 2000)\n",
    "print(p.preco)\n",
    "p.preco = -500  # inválido\n",
    "p.preco = 2500\n",
    "print(p.preco)"
   ]
  },
  {
   "cell_type": "markdown",
   "id": "cdc28535",
   "metadata": {},
   "source": [
    "# Relações Entre Classes"
   ]
  },
  {
   "cell_type": "code",
   "execution_count": 1,
   "id": "5840ec7c",
   "metadata": {},
   "outputs": [
    {
     "name": "stdout",
     "output_type": "stream",
     "text": [
      "Carro: Fusca, Motor: 120 cv\n"
     ]
    }
   ],
   "source": [
    "class Motor:\n",
    "    def __init__(self, potencia):\n",
    "        self.potencia = potencia\n",
    "\n",
    "class Carro:\n",
    "    def __init__(self, modelo, motor):\n",
    "        self.modelo = modelo\n",
    "        self.motor = motor   # agregação\n",
    "    \n",
    "    def exibir_info(self):\n",
    "        print(f\"Carro: {self.modelo}, Motor: {self.motor.potencia} cv\")\n",
    "\n",
    "m = Motor(120)\n",
    "c = Carro(\"Fusca\", m)\n",
    "c.exibir_info()"
   ]
  },
  {
   "cell_type": "code",
   "execution_count": null,
   "id": "0782f209",
   "metadata": {},
   "outputs": [],
   "source": [
    "class Motor:\n",
    "    def __init__(self, potencia):\n",
    "        self.potencia = potencia\n",
    "    def ligar(self):\n",
    "        print(\"Motor ligado...\")\n",
    "\n",
    "class Carro:\n",
    "    def __init__(self, modelo, potencia_motor):\n",
    "        self.modelo = modelo\n",
    "        # Aqui o motor é criado DENTRO do carro → composição\n",
    "        self.motor = Motor(potencia_motor)\n",
    "    def exibir_info(self):\n",
    "        print(f\"Carro: {self.modelo}, Motor: {self.motor.potencia} cv\")\n",
    "    def ligar(self):\n",
    "        print(f\"Ligando o {self.modelo}...\")\n",
    "        self.motor.ligar()\n",
    "\n",
    "# Teste\n",
    "c = Carro(\"Fusca\", 120)\n",
    "c.exibir_info()\n",
    "c.ligar()"
   ]
  },
  {
   "cell_type": "code",
   "execution_count": 2,
   "id": "150c1ed6",
   "metadata": {},
   "outputs": [
    {
     "name": "stdout",
     "output_type": "stream",
     "text": [
      "Dom Casmurro - Machado de Assis [Disponível]\n",
      "Memórias Póstumas - Machado de Assis [Disponível]\n",
      "Você emprestou o livro 'Dom Casmurro'.\n",
      "Dom Casmurro - Machado de Assis [Emprestado]\n",
      "Memórias Póstumas - Machado de Assis [Disponível]\n",
      "Você devolveu o livro 'Dom Casmurro'.\n",
      "Dom Casmurro - Machado de Assis [Disponível]\n",
      "Memórias Póstumas - Machado de Assis [Disponível]\n"
     ]
    }
   ],
   "source": [
    "class Livro:\n",
    "    def __init__(self, titulo, autor):\n",
    "        self.titulo = titulo\n",
    "        self.autor = autor\n",
    "        self.disponivel = True\n",
    "    \n",
    "    def emprestar(self):\n",
    "        if self.disponivel:\n",
    "            self.disponivel = False\n",
    "            print(f\"Você emprestou o livro '{self.titulo}'.\")\n",
    "        else:\n",
    "            print(f\"'{self.titulo}' não está disponível.\")\n",
    "    \n",
    "    def devolver(self):\n",
    "        self.disponivel = True\n",
    "        print(f\"Você devolveu o livro '{self.titulo}'.\")\n",
    "\n",
    "class Biblioteca:\n",
    "    def __init__(self):\n",
    "        self.livros = []\n",
    "    \n",
    "    def adicionar_livro(self, livro):\n",
    "        self.livros.append(livro)\n",
    "    \n",
    "    def listar_livros(self):\n",
    "        for l in self.livros:\n",
    "            status = \"Disponível\" if l.disponivel else \"Emprestado\"\n",
    "            print(f\"{l.titulo} - {l.autor} [{status}]\")\n",
    "\n",
    "# Criando biblioteca\n",
    "b = Biblioteca()\n",
    "l1 = Livro(\"Dom Casmurro\", \"Machado de Assis\")\n",
    "l2 = Livro(\"Memórias Póstumas\", \"Machado de Assis\")\n",
    "\n",
    "b.adicionar_livro(l1)\n",
    "b.adicionar_livro(l2)\n",
    "\n",
    "b.listar_livros()\n",
    "l1.emprestar()\n",
    "b.listar_livros()\n",
    "l1.devolver()\n",
    "b.listar_livros()"
   ]
  }
 ],
 "metadata": {
  "kernelspec": {
   "display_name": "Python 3",
   "language": "python",
   "name": "python3"
  },
  "language_info": {
   "codemirror_mode": {
    "name": "ipython",
    "version": 3
   },
   "file_extension": ".py",
   "mimetype": "text/x-python",
   "name": "python",
   "nbconvert_exporter": "python",
   "pygments_lexer": "ipython3",
   "version": "3.9.6"
  }
 },
 "nbformat": 4,
 "nbformat_minor": 5
}
