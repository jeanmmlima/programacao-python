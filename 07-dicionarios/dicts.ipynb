{
 "cells": [
  {
   "cell_type": "markdown",
   "id": "92ab07b6",
   "metadata": {},
   "source": [
    "# Dicionários"
   ]
  },
  {
   "cell_type": "code",
   "execution_count": 1,
   "id": "a48f9953",
   "metadata": {},
   "outputs": [
    {
     "name": "stdout",
     "output_type": "stream",
     "text": [
      "{'Alface': 0.45, 'Batata': 1.2, 'Tomate': 2.3, 'Feijão': 1.5}\n",
      "Acessando valor da chave Alface: 0.45\n"
     ]
    }
   ],
   "source": [
    "tabela = { \"Alface\": 0.45,\n",
    "\"Batata\": 1.20,\n",
    "\"Tomate\": 2.30,\n",
    "\"Feijão\": 1.50 }\n",
    "\n",
    "print(tabela)\n",
    "\n",
    "print(\"Acessando valor da chave Alface: %.2f\" % tabela[\"Alface\"])"
   ]
  },
  {
   "cell_type": "code",
   "execution_count": null,
   "id": "1e508f55",
   "metadata": {},
   "outputs": [],
   "source": []
  },
  {
   "cell_type": "code",
   "execution_count": 6,
   "id": "829f2147",
   "metadata": {},
   "outputs": [
    {
     "name": "stdout",
     "output_type": "stream",
     "text": [
      "2.3\n",
      "{'Alface': 0.45, 'Batata': 1.2, 'Tomate': 2.3, 'Feijão': 1.5}\n",
      "5.5\n",
      "{'Alface': 0.45, 'Batata': 1.2, 'Tomate': 5.5, 'Feijão': 1.5, 'Cebola': 1.2}\n"
     ]
    }
   ],
   "source": [
    "tabela = { \"Alface\": 0.45,\n",
    " \"Batata\": 1.20,\n",
    " \"Tomate\": 2.30,\n",
    " \"Feijão\": 1.50 }\n",
    "\n",
    "print(tabela[\"Tomate\"]) \n",
    "print(tabela)\n",
    "\n",
    "tabela[\"Tomate\"] = 5.50\n",
    "print(tabela[\"Tomate\"])\n",
    "\n",
    "tabela[\"Cebola\"] = 1.20 \n",
    "print(tabela)"
   ]
  },
  {
   "cell_type": "code",
   "execution_count": 8,
   "id": "d48521cb",
   "metadata": {},
   "outputs": [
    {
     "ename": "KeyError",
     "evalue": "'Manga'",
     "output_type": "error",
     "traceback": [
      "\u001b[0;31m---------------------------------------------------------------------------\u001b[0m",
      "\u001b[0;31mKeyError\u001b[0m                                  Traceback (most recent call last)",
      "Cell \u001b[0;32mIn[8], line 6\u001b[0m\n\u001b[1;32m      1\u001b[0m tabela \u001b[38;5;241m=\u001b[39m { \u001b[38;5;124m\"\u001b[39m\u001b[38;5;124mAlface\u001b[39m\u001b[38;5;124m\"\u001b[39m: \u001b[38;5;241m0.45\u001b[39m,\n\u001b[1;32m      2\u001b[0m  \u001b[38;5;124m\"\u001b[39m\u001b[38;5;124mBatata\u001b[39m\u001b[38;5;124m\"\u001b[39m: \u001b[38;5;241m1.20\u001b[39m,\n\u001b[1;32m      3\u001b[0m  \u001b[38;5;124m\"\u001b[39m\u001b[38;5;124mTomate\u001b[39m\u001b[38;5;124m\"\u001b[39m: \u001b[38;5;241m2.30\u001b[39m,\n\u001b[1;32m      4\u001b[0m  \u001b[38;5;124m\"\u001b[39m\u001b[38;5;124mFeijão\u001b[39m\u001b[38;5;124m\"\u001b[39m: \u001b[38;5;241m1.50\u001b[39m }\n\u001b[0;32m----> 6\u001b[0m \u001b[43mtabela\u001b[49m\u001b[43m[\u001b[49m\u001b[38;5;124;43m\"\u001b[39;49m\u001b[38;5;124;43mManga\u001b[39;49m\u001b[38;5;124;43m\"\u001b[39;49m\u001b[43m]\u001b[49m\n",
      "\u001b[0;31mKeyError\u001b[0m: 'Manga'"
     ]
    }
   ],
   "source": [
    "tabela = { \"Alface\": 0.45,\n",
    " \"Batata\": 1.20,\n",
    " \"Tomate\": 2.30,\n",
    " \"Feijão\": 1.50 }\n",
    "\n",
    "tabela[\"Manga\"]"
   ]
  },
  {
   "cell_type": "code",
   "execution_count": 9,
   "id": "13d4545d",
   "metadata": {},
   "outputs": [
    {
     "name": "stdout",
     "output_type": "stream",
     "text": [
      "False\n",
      "True\n"
     ]
    }
   ],
   "source": [
    "print(\"Manga\" in tabela)\n",
    "print(\"Batata\" in tabela)"
   ]
  },
  {
   "cell_type": "code",
   "execution_count": 11,
   "id": "7dfb3ecc",
   "metadata": {},
   "outputs": [
    {
     "name": "stdout",
     "output_type": "stream",
     "text": [
      "dict_keys(['Alface', 'Batata', 'Tomate', 'Feijão'])\n",
      "dict_values([0.45, 1.2, 2.3, 1.5])\n"
     ]
    }
   ],
   "source": [
    "print(tabela.keys())\n",
    "print(tabela.values())"
   ]
  },
  {
   "cell_type": "code",
   "execution_count": 12,
   "id": "07d75ec7",
   "metadata": {},
   "outputs": [
    {
     "name": "stdout",
     "output_type": "stream",
     "text": [
      "Preço  1.20\n",
      "Produto não encontrado!\n"
     ]
    }
   ],
   "source": [
    "tabela = { \"Alface\": 0.45,\n",
    "\"Batata\": 1.20,\n",
    "\"Tomate\": 2.30,\n",
    "\"Feijão\": 1.50 }\n",
    "while True:\n",
    "    produto=input(\"Digite o nome do produto, fim para terminar:\")\n",
    "    if produto == \"fim\":\n",
    "        break\n",
    "    if produto in tabela: \n",
    "        print(\"Preço %5.2f\" % tabela[produto]) \n",
    "    else:\n",
    "        print(\"Produto não encontrado!\")"
   ]
  },
  {
   "cell_type": "code",
   "execution_count": 13,
   "id": "c7ec0004",
   "metadata": {},
   "outputs": [],
   "source": [
    "del tabela[\"Tomate\"]"
   ]
  },
  {
   "cell_type": "markdown",
   "id": "e0b7ffae",
   "metadata": {},
   "source": [
    "## Dicionários com Listas"
   ]
  },
  {
   "cell_type": "code",
   "execution_count": 3,
   "id": "a019a753",
   "metadata": {},
   "outputs": [
    {
     "name": "stdout",
     "output_type": "stream",
     "text": [
      "{'tomate': [1000, 2.3], 'alface': [500, 0.45], 'batata': [2001, 1.2], 'feijão': [100, 1.5]}\n"
     ]
    }
   ],
   "source": [
    "estoque = { \"tomate\": [ 1000, 2.30],\n",
    "\"alface\": [ 500, 0.45],\n",
    "\"batata\": [ 2001, 1.20],\n",
    "\"feijão\": [ 100, 1.50] }\n",
    "print(estoque)"
   ]
  },
  {
   "cell_type": "markdown",
   "id": "d984fb3f",
   "metadata": {},
   "source": [
    "# Tuplas"
   ]
  },
  {
   "cell_type": "code",
   "execution_count": 7,
   "id": "bbb2a5d8",
   "metadata": {},
   "outputs": [
    {
     "name": "stdout",
     "output_type": "stream",
     "text": [
      "('a', 'b', 'c')\n",
      "a\n",
      "b\n",
      "c\n",
      "('b', 'c')\n",
      "('a', 'b', 'c', 'a', 'b', 'c')\n",
      "3\n"
     ]
    }
   ],
   "source": [
    "minha_tupla = (\"a\",\"b\",\"c\")\n",
    "\n",
    "print(minha_tupla)\n",
    "print(minha_tupla[0])\n",
    "print(minha_tupla[1])\n",
    "print(minha_tupla[2])\n",
    "print(minha_tupla[1:])\n",
    "print(minha_tupla * 2)\n",
    "print(len(minha_tupla))"
   ]
  },
  {
   "cell_type": "code",
   "execution_count": 8,
   "id": "347ebd56",
   "metadata": {},
   "outputs": [
    {
     "ename": "TypeError",
     "evalue": "'tuple' object does not support item assignment",
     "output_type": "error",
     "traceback": [
      "\u001b[0;31m---------------------------------------------------------------------------\u001b[0m",
      "\u001b[0;31mTypeError\u001b[0m                                 Traceback (most recent call last)",
      "Cell \u001b[0;32mIn[8], line 1\u001b[0m\n\u001b[0;32m----> 1\u001b[0m \u001b[43mminha_tupla\u001b[49m\u001b[43m[\u001b[49m\u001b[38;5;241;43m0\u001b[39;49m\u001b[43m]\u001b[49m \u001b[38;5;241m=\u001b[39m \u001b[38;5;124m\"\u001b[39m\u001b[38;5;124mA\u001b[39m\u001b[38;5;124m\"\u001b[39m\n",
      "\u001b[0;31mTypeError\u001b[0m: 'tuple' object does not support item assignment"
     ]
    }
   ],
   "source": [
    "minha_tupla[0] = \"A\""
   ]
  },
  {
   "cell_type": "code",
   "execution_count": 11,
   "id": "63e1aba9",
   "metadata": {},
   "outputs": [
    {
     "name": "stdout",
     "output_type": "stream",
     "text": [
      "('a', ['b', 'c', 'd'])\n",
      "2\n",
      "['b', 'c', 'd']\n",
      "('a', ['b', 'c', 'd', 'e'])\n"
     ]
    }
   ],
   "source": [
    "tupla = ('a', ['b','c','d'])\n",
    "print(tupla)\n",
    "print(len(tupla))\n",
    "print(tupla[1])\n",
    "tupla[1].append('e')\n",
    "print(tupla)"
   ]
  },
  {
   "cell_type": "markdown",
   "id": "d56a4db9",
   "metadata": {},
   "source": []
  }
 ],
 "metadata": {
  "kernelspec": {
   "display_name": "Python 3",
   "language": "python",
   "name": "python3"
  },
  "language_info": {
   "codemirror_mode": {
    "name": "ipython",
    "version": 3
   },
   "file_extension": ".py",
   "mimetype": "text/x-python",
   "name": "python",
   "nbconvert_exporter": "python",
   "pygments_lexer": "ipython3",
   "version": "3.9.6"
  }
 },
 "nbformat": 4,
 "nbformat_minor": 5
}
