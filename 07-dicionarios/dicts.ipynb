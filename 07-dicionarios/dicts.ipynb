{
 "cells": [
  {
   "cell_type": "markdown",
   "id": "92ab07b6",
   "metadata": {},
   "source": [
    "# Dicionários"
   ]
  },
  {
   "cell_type": "code",
   "execution_count": 1,
   "id": "a48f9953",
   "metadata": {},
   "outputs": [
    {
     "name": "stdout",
     "output_type": "stream",
     "text": [
      "{'Alface': 0.45, 'Batata': 1.2, 'Tomate': 2.3, 'Feijão': 1.5}\n",
      "Acessando valor da chave Alface: 0.45\n"
     ]
    }
   ],
   "source": [
    "tabela = { \"Alface\": 0.45,\n",
    "\"Batata\": 1.20,\n",
    "\"Tomate\": 2.30,\n",
    "\"Feijão\": 1.50 }\n",
    "\n",
    "print(tabela)\n",
    "\n",
    "print(\"Acessando valor da chave Alface: %.2f\" % tabela[\"Alface\"])"
   ]
  },
  {
   "cell_type": "code",
   "execution_count": null,
   "id": "1e508f55",
   "metadata": {},
   "outputs": [],
   "source": []
  },
  {
   "cell_type": "code",
   "execution_count": 6,
   "id": "829f2147",
   "metadata": {},
   "outputs": [
    {
     "name": "stdout",
     "output_type": "stream",
     "text": [
      "2.3\n",
      "{'Alface': 0.45, 'Batata': 1.2, 'Tomate': 2.3, 'Feijão': 1.5}\n",
      "5.5\n",
      "{'Alface': 0.45, 'Batata': 1.2, 'Tomate': 5.5, 'Feijão': 1.5, 'Cebola': 1.2}\n"
     ]
    }
   ],
   "source": [
    "tabela = { \"Alface\": 0.45,\n",
    " \"Batata\": 1.20,\n",
    " \"Tomate\": 2.30,\n",
    " \"Feijão\": 1.50 }\n",
    "\n",
    "print(tabela[\"Tomate\"]) \n",
    "print(tabela)\n",
    "\n",
    "tabela[\"Tomate\"] = 5.50\n",
    "print(tabela[\"Tomate\"])\n",
    "\n",
    "tabela[\"Cebola\"] = 1.20 \n",
    "print(tabela)"
   ]
  },
  {
   "cell_type": "code",
   "execution_count": 8,
   "id": "d48521cb",
   "metadata": {},
   "outputs": [
    {
     "ename": "KeyError",
     "evalue": "'Manga'",
     "output_type": "error",
     "traceback": [
      "\u001b[0;31m---------------------------------------------------------------------------\u001b[0m",
      "\u001b[0;31mKeyError\u001b[0m                                  Traceback (most recent call last)",
      "Cell \u001b[0;32mIn[8], line 6\u001b[0m\n\u001b[1;32m      1\u001b[0m tabela \u001b[38;5;241m=\u001b[39m { \u001b[38;5;124m\"\u001b[39m\u001b[38;5;124mAlface\u001b[39m\u001b[38;5;124m\"\u001b[39m: \u001b[38;5;241m0.45\u001b[39m,\n\u001b[1;32m      2\u001b[0m  \u001b[38;5;124m\"\u001b[39m\u001b[38;5;124mBatata\u001b[39m\u001b[38;5;124m\"\u001b[39m: \u001b[38;5;241m1.20\u001b[39m,\n\u001b[1;32m      3\u001b[0m  \u001b[38;5;124m\"\u001b[39m\u001b[38;5;124mTomate\u001b[39m\u001b[38;5;124m\"\u001b[39m: \u001b[38;5;241m2.30\u001b[39m,\n\u001b[1;32m      4\u001b[0m  \u001b[38;5;124m\"\u001b[39m\u001b[38;5;124mFeijão\u001b[39m\u001b[38;5;124m\"\u001b[39m: \u001b[38;5;241m1.50\u001b[39m }\n\u001b[0;32m----> 6\u001b[0m \u001b[43mtabela\u001b[49m\u001b[43m[\u001b[49m\u001b[38;5;124;43m\"\u001b[39;49m\u001b[38;5;124;43mManga\u001b[39;49m\u001b[38;5;124;43m\"\u001b[39;49m\u001b[43m]\u001b[49m\n",
      "\u001b[0;31mKeyError\u001b[0m: 'Manga'"
     ]
    }
   ],
   "source": [
    "tabela = { \"Alface\": 0.45,\n",
    " \"Batata\": 1.20,\n",
    " \"Tomate\": 2.30,\n",
    " \"Feijão\": 1.50 }\n",
    "\n",
    "tabela[\"Manga\"]"
   ]
  },
  {
   "cell_type": "code",
   "execution_count": 9,
   "id": "13d4545d",
   "metadata": {},
   "outputs": [
    {
     "name": "stdout",
     "output_type": "stream",
     "text": [
      "False\n",
      "True\n"
     ]
    }
   ],
   "source": [
    "print(\"Manga\" in tabela)\n",
    "print(\"Batata\" in tabela)"
   ]
  },
  {
   "cell_type": "code",
   "execution_count": 11,
   "id": "7dfb3ecc",
   "metadata": {},
   "outputs": [
    {
     "name": "stdout",
     "output_type": "stream",
     "text": [
      "dict_keys(['Alface', 'Batata', 'Tomate', 'Feijão'])\n",
      "dict_values([0.45, 1.2, 2.3, 1.5])\n"
     ]
    }
   ],
   "source": [
    "print(tabela.keys())\n",
    "print(tabela.values())"
   ]
  },
  {
   "cell_type": "code",
   "execution_count": 12,
   "id": "07d75ec7",
   "metadata": {},
   "outputs": [
    {
     "name": "stdout",
     "output_type": "stream",
     "text": [
      "Preço  1.20\n",
      "Produto não encontrado!\n"
     ]
    }
   ],
   "source": [
    "tabela = { \"Alface\": 0.45,\n",
    "\"Batata\": 1.20,\n",
    "\"Tomate\": 2.30,\n",
    "\"Feijão\": 1.50 }\n",
    "while True:\n",
    "    produto=input(\"Digite o nome do produto, fim para terminar:\")\n",
    "    if produto == \"fim\":\n",
    "        break\n",
    "    if produto in tabela: \n",
    "        print(\"Preço %5.2f\" % tabela[produto]) \n",
    "    else:\n",
    "        print(\"Produto não encontrado!\")"
   ]
  },
  {
   "cell_type": "code",
   "execution_count": 13,
   "id": "c7ec0004",
   "metadata": {},
   "outputs": [],
   "source": [
    "del tabela[\"Tomate\"]"
   ]
  },
  {
   "cell_type": "markdown",
   "id": "e0b7ffae",
   "metadata": {},
   "source": [
    "## Dicionários com Listas"
   ]
  },
  {
   "cell_type": "code",
   "execution_count": 3,
   "id": "a019a753",
   "metadata": {},
   "outputs": [
    {
     "name": "stdout",
     "output_type": "stream",
     "text": [
      "{'tomate': [1000, 2.3], 'alface': [500, 0.45], 'batata': [2001, 1.2], 'feijão': [100, 1.5]}\n"
     ]
    }
   ],
   "source": [
    "estoque = { \"tomate\": [ 1000, 2.30],\n",
    "\"alface\": [ 500, 0.45],\n",
    "\"batata\": [ 2001, 1.20],\n",
    "\"feijão\": [ 100, 1.50] }\n",
    "print(estoque)"
   ]
  },
  {
   "cell_type": "markdown",
   "id": "d984fb3f",
   "metadata": {},
   "source": [
    "# Tuplas"
   ]
  },
  {
   "cell_type": "code",
   "execution_count": 7,
   "id": "bbb2a5d8",
   "metadata": {},
   "outputs": [
    {
     "name": "stdout",
     "output_type": "stream",
     "text": [
      "('a', 'b', 'c')\n",
      "a\n",
      "b\n",
      "c\n",
      "('b', 'c')\n",
      "('a', 'b', 'c', 'a', 'b', 'c')\n",
      "3\n"
     ]
    }
   ],
   "source": [
    "minha_tupla = (\"a\",\"b\",\"c\")\n",
    "\n",
    "print(minha_tupla)\n",
    "print(minha_tupla[0])\n",
    "print(minha_tupla[1])\n",
    "print(minha_tupla[2])\n",
    "print(minha_tupla[1:])\n",
    "print(minha_tupla * 2)\n",
    "print(len(minha_tupla))"
   ]
  },
  {
   "cell_type": "code",
   "execution_count": 8,
   "id": "347ebd56",
   "metadata": {},
   "outputs": [
    {
     "ename": "TypeError",
     "evalue": "'tuple' object does not support item assignment",
     "output_type": "error",
     "traceback": [
      "\u001b[0;31m---------------------------------------------------------------------------\u001b[0m",
      "\u001b[0;31mTypeError\u001b[0m                                 Traceback (most recent call last)",
      "Cell \u001b[0;32mIn[8], line 1\u001b[0m\n\u001b[0;32m----> 1\u001b[0m \u001b[43mminha_tupla\u001b[49m\u001b[43m[\u001b[49m\u001b[38;5;241;43m0\u001b[39;49m\u001b[43m]\u001b[49m \u001b[38;5;241m=\u001b[39m \u001b[38;5;124m\"\u001b[39m\u001b[38;5;124mA\u001b[39m\u001b[38;5;124m\"\u001b[39m\n",
      "\u001b[0;31mTypeError\u001b[0m: 'tuple' object does not support item assignment"
     ]
    }
   ],
   "source": [
    "minha_tupla[0] = \"A\""
   ]
  },
  {
   "cell_type": "code",
   "execution_count": 11,
   "id": "63e1aba9",
   "metadata": {},
   "outputs": [
    {
     "name": "stdout",
     "output_type": "stream",
     "text": [
      "('a', ['b', 'c', 'd'])\n",
      "2\n",
      "['b', 'c', 'd']\n",
      "('a', ['b', 'c', 'd', 'e'])\n"
     ]
    }
   ],
   "source": [
    "tupla = ('a', ['b','c','d'])\n",
    "print(tupla)\n",
    "print(len(tupla))\n",
    "print(tupla[1])\n",
    "tupla[1].append('e')\n",
    "print(tupla)"
   ]
  },
  {
   "cell_type": "markdown",
   "id": "edd4a6ad",
   "metadata": {},
   "source": [
    "# Conjuntos"
   ]
  },
  {
   "cell_type": "markdown",
   "id": "d56a4db9",
   "metadata": {},
   "source": []
  },
  {
   "cell_type": "code",
   "execution_count": 1,
   "id": "ee2f7b6a",
   "metadata": {},
   "outputs": [
    {
     "name": "stdout",
     "output_type": "stream",
     "text": [
      "{1, 2, 3}\n",
      "{'c', 'b', 'a'}\n"
     ]
    }
   ],
   "source": [
    "meu_conjunto = set()\n",
    "meu_conjunto.add(1)\n",
    "meu_conjunto.add(2)\n",
    "meu_conjunto.add(3)\n",
    "print(meu_conjunto)\n",
    "\n",
    "#OU\n",
    "\n",
    "outro_conjunto = {'a', 'b', 'c'}\n",
    "print(outro_conjunto)\n"
   ]
  },
  {
   "cell_type": "code",
   "execution_count": 3,
   "id": "de1f5a1c",
   "metadata": {},
   "outputs": [
    {
     "name": "stdout",
     "output_type": "stream",
     "text": [
      "{1, 2, 3}\n"
     ]
    }
   ],
   "source": [
    "meu_conjunto.add(1)\n",
    "print(meu_conjunto)"
   ]
  },
  {
   "cell_type": "code",
   "execution_count": 4,
   "id": "e6038945",
   "metadata": {},
   "outputs": [
    {
     "data": {
      "text/plain": [
       "True"
      ]
     },
     "execution_count": 4,
     "metadata": {},
     "output_type": "execute_result"
    }
   ],
   "source": [
    "1 in meu_conjunto"
   ]
  },
  {
   "cell_type": "code",
   "execution_count": 6,
   "id": "8c32bc9c",
   "metadata": {},
   "outputs": [
    {
     "name": "stdout",
     "output_type": "stream",
     "text": [
      "{2, 3}\n",
      "2\n"
     ]
    }
   ],
   "source": [
    "conjunto = set([2,3])\n",
    "print(conjunto)\n",
    "\n",
    "print(len(conjunto))"
   ]
  },
  {
   "cell_type": "markdown",
   "id": "5599a084",
   "metadata": {},
   "source": [
    "## União de COnjuntos"
   ]
  },
  {
   "cell_type": "code",
   "execution_count": 8,
   "id": "239c653e",
   "metadata": {},
   "outputs": [
    {
     "name": "stdout",
     "output_type": "stream",
     "text": [
      "{0, 1, 2, 3, -1}\n",
      "{0, 1, 2, 3, 4, 5, 6, -1}\n",
      "{2, 3, 4, 5, 6}\n"
     ]
    }
   ],
   "source": [
    "a = {0, 1, 2, 3, -1}\n",
    "b = {2, 3}\n",
    "\n",
    "c = set([4, 5, 6])\n",
    "\n",
    "uniao_ab = a | b\n",
    "print(uniao_ab)\n",
    "\n",
    "uniao_ac = a | c\n",
    "print(uniao_ac)\n",
    "\n",
    "uniao_bc = b.union(c)\n",
    "print(uniao_bc)"
   ]
  },
  {
   "cell_type": "markdown",
   "id": "6c1546fc",
   "metadata": {},
   "source": [
    "## Interseção de conjuntos"
   ]
  },
  {
   "cell_type": "code",
   "execution_count": 9,
   "id": "900a42c7",
   "metadata": {},
   "outputs": [
    {
     "name": "stdout",
     "output_type": "stream",
     "text": [
      "{2, 6}\n",
      "{2, 6}\n"
     ]
    }
   ],
   "source": [
    "A = {1,2,3,6}\n",
    "B = {2,4,5,6}\n",
    "print(A & B)\n",
    "print(A.intersection(B))"
   ]
  },
  {
   "cell_type": "markdown",
   "id": "7c0709ec",
   "metadata": {},
   "source": [
    "## Diferença"
   ]
  },
  {
   "cell_type": "code",
   "execution_count": 11,
   "id": "7b3a11c3",
   "metadata": {},
   "outputs": [
    {
     "name": "stdout",
     "output_type": "stream",
     "text": [
      "{0, 1, -1}\n",
      "{0, 1, -1}\n"
     ]
    }
   ],
   "source": [
    "A = {0, 1, 2, 3, -1}\n",
    "B = {2, 3}\n",
    "print(A - B)\n",
    "print(A.difference(B))"
   ]
  },
  {
   "cell_type": "markdown",
   "id": "cb3b1564",
   "metadata": {},
   "source": [
    "## Outras operações com conjuntos"
   ]
  },
  {
   "cell_type": "code",
   "execution_count": null,
   "id": "f01cad75",
   "metadata": {},
   "outputs": [],
   "source": [
    "A = {x for x in range(0,10,2)} #A = 0, 2, 4, 8\n",
    "B = {2,4}\n",
    "\n",
    "print(A > B)  # Verifica se todos os elementos de B estão em A\n",
    "print(B > A)  # Verifica se todos os elementos de A estão em B\n",
    "print(A >= A) #conjunto maior ou igual a outro: contém o outro conjunto\n",
    "print(B >= A) #conjunto maior ou igual a outro: contém o outro conjunto\n",
    "print(A < B)  # Verifica se todos os elementos de A estão em B\n",
    "print(A == A) #igualdade: conjuntos tem os mesmos elementos\n",
    "print (A == B) #igualdade: conjuntos tem os mesmos elementos\n"
   ]
  }
 ],
 "metadata": {
  "kernelspec": {
   "display_name": "Python 3",
   "language": "python",
   "name": "python3"
  },
  "language_info": {
   "codemirror_mode": {
    "name": "ipython",
    "version": 3
   },
   "file_extension": ".py",
   "mimetype": "text/x-python",
   "name": "python",
   "nbconvert_exporter": "python",
   "pygments_lexer": "ipython3",
   "version": "3.9.6"
  }
 },
 "nbformat": 4,
 "nbformat_minor": 5
}
