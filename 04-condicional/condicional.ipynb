{
 "cells": [
  {
   "cell_type": "markdown",
   "id": "1f21f4a8",
   "metadata": {},
   "source": [
    "# Condicional"
   ]
  },
  {
   "cell_type": "markdown",
   "id": "cfcfa835",
   "metadata": {},
   "source": [
    "## IF"
   ]
  },
  {
   "cell_type": "code",
   "execution_count": 14,
   "id": "247baea4",
   "metadata": {},
   "outputs": [],
   "source": [
    "a = int(input(\"Primeiro valor: \"))\n",
    "b = int(input(\"Segundo valor: \"))\n",
    "\n",
    "if a > b: \n",
    "    print (\"O primeiro número é o maior!\") #1\n",
    "if b > a: \n",
    "    print (\"O segundo número é o maior!\") #2"
   ]
  },
  {
   "cell_type": "code",
   "execution_count": 15,
   "id": "7d3c64dc",
   "metadata": {},
   "outputs": [
    {
     "name": "stdout",
     "output_type": "stream",
     "text": [
      "Seu carro é velho\n"
     ]
    }
   ],
   "source": [
    "idade = int(input(\"Digite a idade do seu carro: \"))\n",
    "if idade <= 3:\n",
    "    print(\"Seu carro é novo\") \n",
    "if idade > 3:\n",
    "    print(\"Seu carro é velho\") "
   ]
  },
  {
   "cell_type": "code",
   "execution_count": 16,
   "id": "c105ccbe",
   "metadata": {},
   "outputs": [
    {
     "name": "stdout",
     "output_type": "stream",
     "text": [
      "Carro não foi multado\n",
      "Fim do programa!\n"
     ]
    }
   ],
   "source": [
    "velocidade = float(input(\"Digite a velocidade do seu carro: \"))\n",
    "\n",
    "if velocidade < 80:\n",
    "    print(\"Carro não foi multado\")\n",
    "if velocidade >= 80:\n",
    "    print(\"Carro foi multado\")\n",
    "    qtd_km_acima_80 = velocidade - 80\n",
    "    multa = qtd_km_acima_80 * 5\n",
    "    print(\"Multa foi de R$ %.2f\" % multa)\n",
    "print(\"Fim do programa!\")"
   ]
  },
  {
   "cell_type": "markdown",
   "id": "2c7b0b7b",
   "metadata": {},
   "source": [
    "## else"
   ]
  },
  {
   "cell_type": "code",
   "execution_count": 17,
   "id": "4fffefa5",
   "metadata": {},
   "outputs": [
    {
     "name": "stdout",
     "output_type": "stream",
     "text": [
      "Seu carro é velho\n"
     ]
    }
   ],
   "source": [
    "idade = int(input(\"Digite a idade de seu carro: \"))\n",
    "if idade <= 4:\n",
    "    print(\"Seu carro é novo\")\n",
    "else: \n",
    "    print(\"Seu carro é velho\") "
   ]
  },
  {
   "cell_type": "markdown",
   "id": "fed2a8a5",
   "metadata": {},
   "source": [
    "## Estruturas Aninhadas"
   ]
  },
  {
   "cell_type": "code",
   "execution_count": 18,
   "id": "7cd6e0fd",
   "metadata": {},
   "outputs": [
    {
     "name": "stdout",
     "output_type": "stream",
     "text": [
      "O preço a pagar de acordo com seus minutos é: R$2.00\n"
     ]
    }
   ],
   "source": [
    "minutos=int(input(\"Quantos minutos você utilizou este mês:\"))\n",
    "\n",
    "if minutos > 200:\n",
    "    if minutos < 400:\n",
    "        preco = 0.18\n",
    "    else:\n",
    "        preco = 0.15\n",
    "else:\n",
    "    preco = 0.20\n",
    "\n",
    "print(\"O preço a pagar de acordo com seus minutos é: R$%.2f\" % (minutos * preco))\n",
    "\n"
   ]
  },
  {
   "cell_type": "code",
   "execution_count": 19,
   "id": "9fc1cf07",
   "metadata": {},
   "outputs": [
    {
     "name": "stdout",
     "output_type": "stream",
     "text": [
      "Você vai pagar este mês: R$2.00\n"
     ]
    }
   ],
   "source": [
    "minutos=int(input(\"Quantos minutos você utilizou este mês:\"))\n",
    "if minutos < 200: \n",
    "    preco = 0.20 \n",
    "else:\n",
    "    if minutos < 400: \n",
    "        preco = 0.18 \n",
    "    else: \n",
    "        preco = 0.15 \n",
    "print(\"Você vai pagar este mês: R$%.2f\" % (minutos * preco))"
   ]
  },
  {
   "cell_type": "code",
   "execution_count": 20,
   "id": "59872ef1",
   "metadata": {},
   "outputs": [
    {
     "data": {
      "text/plain": [
       "0"
      ]
     },
     "execution_count": 20,
     "metadata": {},
     "output_type": "execute_result"
    }
   ],
   "source": [
    "-4 % 2"
   ]
  },
  {
   "cell_type": "markdown",
   "id": "de2750c9",
   "metadata": {},
   "source": [
    "## elif"
   ]
  },
  {
   "cell_type": "code",
   "execution_count": 21,
   "id": "4af6254b",
   "metadata": {},
   "outputs": [
    {
     "name": "stdout",
     "output_type": "stream",
     "text": [
      "Categoria inválida, digite um valor entre 1 e 5!\n",
      "O preço do produto é: R$  0.00\n"
     ]
    }
   ],
   "source": [
    "categoria = int(input(\"Digite a categoria do produto:\"))\n",
    "if categoria == 1:\n",
    "    preco = 10\n",
    "elif categoria == 2:\n",
    "    preco = 18\n",
    "elif categoria == 3:\n",
    "    preco = 23\n",
    "elif categoria == 4:\n",
    "    preco = 26\n",
    "elif categoria == 5:\n",
    "    preco = 31\n",
    "else:\n",
    "    print(\"Categoria inválida, digite um valor entre 1 e 5!\")\n",
    "    preco = 0\n",
    "print(\"O preço do produto é: R$%6.2f\" % preco)  "
   ]
  },
  {
   "cell_type": "markdown",
   "id": "e4dccaa4",
   "metadata": {},
   "source": []
  },
  {
   "cell_type": "code",
   "execution_count": null,
   "id": "7cb778c8",
   "metadata": {},
   "outputs": [
    {
     "name": "stdout",
     "output_type": "stream",
     "text": [
      "Numero maior ou igual a 10 e menor que 20\n"
     ]
    }
   ],
   "source": [
    "numero = int(input(\"Informe o numero: \"))\n",
    "\n",
    "if numero < 10:\n",
    "    print(\"Numero menor que 10\")\n",
    "elif numero >= 10 and numero < 20:\n",
    "    print(\"Numero maior ou igual a 10 e menor que 20\")\n",
    "elif numero >= 20 and numero < 50:\n",
    "    print(\"Numero maior ou igual a 20 e menor que 50\")\n",
    "else:\n",
    "    print(\"Numero maior ou igual a 50\")"
   ]
  },
  {
   "cell_type": "code",
   "execution_count": null,
   "id": "1905c28c",
   "metadata": {},
   "outputs": [],
   "source": []
  }
 ],
 "metadata": {
  "kernelspec": {
   "display_name": "Python 3",
   "language": "python",
   "name": "python3"
  },
  "language_info": {
   "codemirror_mode": {
    "name": "ipython",
    "version": 3
   },
   "file_extension": ".py",
   "mimetype": "text/x-python",
   "name": "python",
   "nbconvert_exporter": "python",
   "pygments_lexer": "ipython3",
   "version": "3.13.5"
  }
 },
 "nbformat": 4,
 "nbformat_minor": 5
}
