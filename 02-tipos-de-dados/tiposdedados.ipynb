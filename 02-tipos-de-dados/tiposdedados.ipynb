{
 "cells": [
  {
   "cell_type": "markdown",
   "id": "c83ef582",
   "metadata": {},
   "source": [
    "# Tipos de dados "
   ]
  },
  {
   "cell_type": "markdown",
   "id": "7162953a",
   "metadata": {},
   "source": [
    "## Variáveis numéricas"
   ]
  },
  {
   "cell_type": "code",
   "execution_count": 13,
   "id": "0fbd0fd0",
   "metadata": {},
   "outputs": [
    {
     "name": "stdout",
     "output_type": "stream",
     "text": [
      "a:  1  b:  3.14\n"
     ]
    }
   ],
   "source": [
    "a = 1\n",
    "b = 3.14\n",
    "\n",
    "print('a: ',a, ' b: ', b)"
   ]
  },
  {
   "cell_type": "markdown",
   "id": "7bb7b320",
   "metadata": {},
   "source": [
    "## Variáveis do tipo Lógico"
   ]
  },
  {
   "cell_type": "code",
   "execution_count": 14,
   "id": "08f804d2",
   "metadata": {},
   "outputs": [
    {
     "name": "stdout",
     "output_type": "stream",
     "text": [
      "True\n"
     ]
    }
   ],
   "source": [
    "resultado = True\n",
    "aprovado = False\n",
    "print(resultado)"
   ]
  },
  {
   "cell_type": "markdown",
   "id": "e43157f9",
   "metadata": {},
   "source": [
    "## Operadores relacionais"
   ]
  },
  {
   "cell_type": "code",
   "execution_count": 15,
   "id": "315f4f95",
   "metadata": {},
   "outputs": [
    {
     "data": {
      "text/plain": [
       "False"
      ]
     },
     "execution_count": 15,
     "metadata": {},
     "output_type": "execute_result"
    }
   ],
   "source": [
    "a = 1\n",
    "b = 5\n",
    "c = 2\n",
    "d = 1\n",
    "a == b"
   ]
  },
  {
   "cell_type": "code",
   "execution_count": 16,
   "id": "28d77e3e",
   "metadata": {},
   "outputs": [
    {
     "data": {
      "text/plain": [
       "True"
      ]
     },
     "execution_count": 16,
     "metadata": {},
     "output_type": "execute_result"
    }
   ],
   "source": [
    "b > a"
   ]
  },
  {
   "cell_type": "code",
   "execution_count": 17,
   "id": "7fd00472",
   "metadata": {},
   "outputs": [
    {
     "data": {
      "text/plain": [
       "True"
      ]
     },
     "execution_count": 17,
     "metadata": {},
     "output_type": "execute_result"
    }
   ],
   "source": [
    "c <= b"
   ]
  },
  {
   "cell_type": "code",
   "execution_count": 18,
   "id": "3cda12e3",
   "metadata": {},
   "outputs": [
    {
     "data": {
      "text/plain": [
       "False"
      ]
     },
     "execution_count": 18,
     "metadata": {},
     "output_type": "execute_result"
    }
   ],
   "source": [
    "d != a"
   ]
  },
  {
   "cell_type": "markdown",
   "id": "a20b4ae3",
   "metadata": {},
   "source": [
    "### Exemplo operadores relacionais"
   ]
  },
  {
   "cell_type": "code",
   "execution_count": 19,
   "id": "0e234e97",
   "metadata": {},
   "outputs": [
    {
     "name": "stdout",
     "output_type": "stream",
     "text": [
      "True\n"
     ]
    }
   ],
   "source": [
    "nota = 8\n",
    "média = 7\n",
    "aprovado = nota > média\n",
    "print(aprovado)"
   ]
  },
  {
   "cell_type": "markdown",
   "id": "7bc1f420",
   "metadata": {},
   "source": [
    "### Expressoes lógicas"
   ]
  },
  {
   "cell_type": "code",
   "execution_count": 20,
   "id": "a66a71e6",
   "metadata": {},
   "outputs": [
    {
     "name": "stdout",
     "output_type": "stream",
     "text": [
      "Vai obter o emprestimo:  False\n"
     ]
    }
   ],
   "source": [
    "salario = 100\n",
    "idade = 20\n",
    "emprestimo = salario > 1000 and idade > 18\n",
    "print(\"Vai obter o emprestimo: \", emprestimo)"
   ]
  },
  {
   "cell_type": "code",
   "execution_count": null,
   "id": "a232d15e",
   "metadata": {},
   "outputs": [
    {
     "name": "stdout",
     "output_type": "stream",
     "text": [
      "Vai obter o emprestimo:  False\n"
     ]
    }
   ],
   "source": [
    "salario = float(input('Inserir salario: ')) #lendo entrada do usuario\n",
    "idade = int(input('Inserir idade: ')) # lendo entrada do usuario\n",
    "emprestimo = salario > 1000 and idade > 18\n",
    "print(\"Vai obter o emprestimo: \", emprestimo)"
   ]
  }
 ],
 "metadata": {
  "kernelspec": {
   "display_name": "Python 3",
   "language": "python",
   "name": "python3"
  },
  "language_info": {
   "codemirror_mode": {
    "name": "ipython",
    "version": 3
   },
   "file_extension": ".py",
   "mimetype": "text/x-python",
   "name": "python",
   "nbconvert_exporter": "python",
   "pygments_lexer": "ipython3",
   "version": "3.13.5"
  }
 },
 "nbformat": 4,
 "nbformat_minor": 5
}
